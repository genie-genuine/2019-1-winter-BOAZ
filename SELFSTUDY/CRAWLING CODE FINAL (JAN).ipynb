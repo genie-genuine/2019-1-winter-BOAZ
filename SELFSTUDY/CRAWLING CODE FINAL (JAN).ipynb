{
 "cells": [
  {
   "cell_type": "markdown",
   "metadata": {},
   "source": [
    "# crawling 최종코드"
   ]
  },
  {
   "cell_type": "code",
   "execution_count": null,
   "metadata": {},
   "outputs": [],
   "source": [
    "# importing module\n",
    "import requests\n",
    "from bs4 import BeautifulSoup\n",
    "import pandas as pd\n",
    "import time\n",
    "\n",
    "# 주소에 정보 요청\n",
    "url = \"http://zum.com/#!/home\"\n",
    "response = requests.get(url)\n",
    "html = response.text\n",
    "soup = BeautifulSoup(html, \"html.parser\")\n",
    "\n",
    "# 태그로 필요한 정보만 끌어오기\n",
    "raw1 = soup.find_all('span', {'class' : 'keyword d_keyword'})\n",
    "keyword_raw1 = [i.text for i in raw1]\n",
    "keyword1 = [keyword_raw1[j] for j in range(40) if j%2 == 1]\n",
    "\n",
    "# 데이터 프레임 생성\n",
    "df = pd.DataFrame({'keyword' : keyword1, 'rank' : range(1,21)})\n",
    "df['date'] = time.strftime(\"%y%m%d\",time.localtime())\n",
    "df['time'] = time.strftime(\"%H%M\",time.localtime())\n",
    "df['Portal'] = 'Zum'\n",
    "\n",
    "# 데이터 프레임 csv로 저장\n",
    "df.to_csv('./week2.csv', index=False)\n",
    "df"
   ]
  }
 ],
 "metadata": {
  "kernelspec": {
   "display_name": "Python 3",
   "language": "python",
   "name": "python3"
  },
  "language_info": {
   "codemirror_mode": {
    "name": "ipython",
    "version": 3
   },
   "file_extension": ".py",
   "mimetype": "text/x-python",
   "name": "python",
   "nbconvert_exporter": "python",
   "pygments_lexer": "ipython3",
   "version": "3.7.1"
  }
 },
 "nbformat": 4,
 "nbformat_minor": 2
}
