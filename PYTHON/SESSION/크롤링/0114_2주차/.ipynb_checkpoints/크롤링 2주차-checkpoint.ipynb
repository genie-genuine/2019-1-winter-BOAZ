{
 "cells": [
  {
   "cell_type": "markdown",
   "metadata": {},
   "source": [
    "# Jupyter에서 자주 쓰이는 단축키\n",
    "- Enter : 셀에 진입\n",
    "- Esc : 셀을 빠져나감\n",
    "\n",
    "\n",
    "-- 셀에 빠져나간후\n",
    "- M : 셀을 마크다운으로 바꿔줌\n",
    "- Y : 셀을 코드로 바꿔줌\n",
    "- D+D : 셀 제거\n",
    "- Z : 되돌리기(실수로 제거한 셀을 되돌릴 수 있음)\n",
    "- B : 선택한 셀 아래에 셀을 추가\n",
    "- A : 선택한 셀 위에 셀을 추가\n",
    "\n",
    "-- 코드에서\n",
    "- ctrl + enter : 셀을 실행\n",
    "- shift + enter : 셀을 실행하고, 다음 셀로 이동(다음 셀이 없다면 자동 생성)\n",
    "- shift + tab : 함수의 상세내용(ex : 인자, 예시 등)을 알고 싶을때"
   ]
  },
  {
   "cell_type": "code",
   "execution_count": 7,
   "metadata": {},
   "outputs": [],
   "source": [
    "#module importing\n",
    "import requests\n",
    "from bs4 import BeautifulSoup\n",
    "import pandas as pd"
   ]
  },
  {
   "cell_type": "markdown",
   "metadata": {},
   "source": [
    "# 1주차 과제 풀이"
   ]
  },
  {
   "cell_type": "markdown",
   "metadata": {},
   "source": [
    "![이미지](./가나다.png)"
   ]
  },
  {
   "cell_type": "code",
   "execution_count": 8,
   "metadata": {},
   "outputs": [],
   "source": [
    "url = \"http://zum.com/#!/home\"\n",
    "response = requests.get(url)\n",
    "html = response.text\n",
    "soup = BeautifulSoup(html, \"html.parser\")"
   ]
  },
  {
   "cell_type": "code",
   "execution_count": 9,
   "metadata": {},
   "outputs": [
    {
     "data": {
      "text/plain": [
       "['고주원',\n",
       " '김새론',\n",
       " 'txt',\n",
       " '연애의 맛 김진아',\n",
       " '팔라우',\n",
       " '윤소희',\n",
       " '김정훈',\n",
       " '신아영',\n",
       " '인제 자작나무숲',\n",
       " '빅히트',\n",
       " '현빈 손예진',\n",
       " '김예령',\n",
       " '김보름',\n",
       " '신의퀴즈',\n",
       " '송재림',\n",
       " '류덕환',\n",
       " '아시안컵',\n",
       " '연준',\n",
       " '심석희',\n",
       " '남자친구']"
      ]
     },
     "execution_count": 9,
     "metadata": {},
     "output_type": "execute_result"
    }
   ],
   "source": [
    "#답안 1\n",
    "raw1 = soup.find_all('span', {'class' : 'keyword d_keyword'})\n",
    "keyword_raw1 = [i.text for i in raw1]\n",
    "keyword1 = [keyword_raw1[j] for j in range(40) if j%2 == 1]\n",
    "keyword1"
   ]
  },
  {
   "cell_type": "code",
   "execution_count": 49,
   "metadata": {},
   "outputs": [
    {
     "data": {
      "text/plain": [
       "['정유안',\n",
       " '김형은',\n",
       " '키디비',\n",
       " '2019 스타벅스 럭키백',\n",
       " '김예령',\n",
       " '롯데리아 핫크리스피버거',\n",
       " '이재명',\n",
       " '블랙넛',\n",
       " '성인애착유형테스트',\n",
       " '마스크',\n",
       " '박은영 아나운서',\n",
       " '사필귀정',\n",
       " '왜그래 풍상씨',\n",
       " '심석희 성폭행',\n",
       " '텔루스',\n",
       " '캄보디아',\n",
       " '건양대',\n",
       " '장경희',\n",
       " '경기방송',\n",
       " '황미나']"
      ]
     },
     "execution_count": 49,
     "metadata": {},
     "output_type": "execute_result"
    }
   ],
   "source": [
    "#답안2 집에가셔서 생각해보셨으면 좋겠습니다!\n",
    "raw2 = soup.find_all('a', {'class' : 'd_btn_keyword d_ready'})\n",
    "keyword_raw2 = [i.text for i in raw2]\n",
    "keyword2 = [j.replace('\\n','') for j in keyword_raw2]\n",
    "keyword2"
   ]
  },
  {
   "cell_type": "markdown",
   "metadata": {},
   "source": [
    "# BeautifulSoup 복습"
   ]
  },
  {
   "cell_type": "code",
   "execution_count": null,
   "metadata": {},
   "outputs": [],
   "source": [
    "url = \"원하는 주소\"\n",
    "response = requests.get(url) #원하는 주소에 요청\n",
    "html = response.text #HTML코드를 받음\n",
    "soup = BeautifulSoup(html, \"html.parser\") #변수 html을 BeautifulSoup모듈이 다룰수 있는 타입으로 바꿈"
   ]
  },
  {
   "cell_type": "code",
   "execution_count": null,
   "metadata": {},
   "outputs": [],
   "source": [
    "#원하는 속성을 가진 특정 태그를 검색\n",
    "#1개\n",
    "soup.find(\"태그명\", {'속성' : '내용'}) #속성으로 많이 채용되는 것은 class\n",
    "#2개 이상\n",
    "soup.find_all(\"태그명\", {'속성' : '내용'})"
   ]
  },
  {
   "cell_type": "markdown",
   "metadata": {},
   "source": [
    "### 아래의 HTML코드에서 BeautifulSoup을 사용해  \n",
    "### 다음과 같은 문장만 뽑으려면 어떻게 해야할까?\n",
    "> 'span 태그는 다른 텍스트와 구별하기 위해 사용하는데, 배경색은 글자가 있는곳만 적용합니다.'"
   ]
  },
  {
   "cell_type": "code",
   "execution_count": null,
   "metadata": {},
   "outputs": [],
   "source": [
    "<!DOCTYPE html>\n",
    "<html>\n",
    "  <head>\n",
    "    <meta charset=\"utf-8\">\n",
    "    <title></title>\n",
    "  </head>\n",
    "\n",
    "  <style type=\"text/css\">\n",
    "    body {\n",
    "        background-color: black\n",
    "    }\n",
    "    #div {\n",
    "        background-color: #007777\n",
    "    }\n",
    "    #span {\n",
    "        background-color: #555555\n",
    "    }\n",
    "\n",
    "    .test1{\n",
    "      background-color: white;\n",
    "    }\n",
    "    .test2{\n",
    "      background-color: red;\n",
    "    }\n",
    "</style>\n",
    "<body>\n",
    "    <div id=\"div\">\n",
    "      div 태그는 콘텐츠의 영역이나 그룹화를 할때 사용!\n",
    "      배경색은 레이아웃 가로 모두에 적용 됩니다.\n",
    "    </div>\n",
    "\n",
    "    <br>\n",
    "\n",
    "    <span id=\"span\">\n",
    "span 태그는 다른 텍스트와 구별하기 위해 사용하는데, 배경색은 글자가 있는곳만 적용합니다.\n",
    "    </span>\n",
    "\n",
    "    <br><br>\n",
    "    <!--div 내 span 사용 예시  -->\n",
    "    <div class=\"test1\">\n",
    "      div 태그는 콘텐츠의 영역이나 그룹화를 할때 사용!\n",
    "      배경색은 레이아웃 가로 모두에 적용 됩니다.\n",
    "      <span class=\"test2\"> span 태그는 다른 텍스트와 구별하기 위해 사용하는데,\n",
    "      배경색은 글자가 있는곳만 적용합니다.</span>\n",
    "      div 태그는 콘텐츠의 영역이나 그룹화를 할때 사용!\n",
    "      배경색은 레이아웃 가로 모두에 적용 됩니다.\n",
    "    </div>\n",
    "\n",
    "\n",
    "</body>\n",
    "</html>"
   ]
  },
  {
   "cell_type": "code",
   "execution_count": 98,
   "metadata": {},
   "outputs": [
    {
     "data": {
      "text/plain": [
       "'\\nspan 태그는 다른 텍스트와 구별하기 위해 사용하는데, 배경색은 글자가 있는곳만 적용합니다.\\n    '"
      ]
     },
     "execution_count": 98,
     "metadata": {},
     "output_type": "execute_result"
    }
   ],
   "source": [
    "#다음과 같은 답이 나와야한다!"
   ]
  },
  {
   "cell_type": "markdown",
   "metadata": {},
   "source": [
    "hint : \n",
    "1. 위의 html코드를 변수화하고 \n",
    "2. bs Module이 읽을 수 있게 바꾼 후 \n",
    "3. span태그를 찾고  \n",
    "4. text를 뽑아낸다."
   ]
  },
  {
   "cell_type": "code",
   "execution_count": null,
   "metadata": {},
   "outputs": [],
   "source": []
  },
  {
   "cell_type": "markdown",
   "metadata": {},
   "source": [
    "### find의 역할 1. HTML코드의 범위축소\n",
    "\n",
    "바디 태그가 2개나 있어서 한가지 바디 태그를 선택해야 한다."
   ]
  },
  {
   "cell_type": "code",
   "execution_count": 102,
   "metadata": {},
   "outputs": [],
   "source": [
    "example = '''<body>\n",
    "    <div id=\"div\">\n",
    "      div 태그는 콘텐츠의 영역이나 그룹화를 할때 사용!\n",
    "      배경색은 레이아웃 가로 모두에 적용 됩니다.\n",
    "    </div>\n",
    "\n",
    "    <br>\n",
    "\n",
    "    <span id=\"span\">\n",
    "        span 태그는 다른 텍스트와 구별하기 위해 사용하는데,\n",
    "        배경색은 글자가 있는곳만 적용합니다.\n",
    "    </span>\n",
    "\n",
    "    <br><br>\n",
    "    <!--div 내 span 사용 예시  -->\n",
    "    <div class=\"test1\">\n",
    "      div 태그는 콘텐츠의 영역이나 그룹화를 할때 사용!\n",
    "      배경색은 레이아웃 가로 모두에 적용 됩니다.\n",
    "      <span class=\"test2\"> span 태그는 다른 텍스트와 구별하기 위해 사용하는데,\n",
    "      배경색은 글자가 있는곳만 적용합니다.</span>\n",
    "      div 태그는 콘텐츠의 영역이나 그룹화를 할때 사용!\n",
    "      배경색은 레이아웃 가로 모두에 적용 됩니다.\n",
    "    </div>\n",
    "\n",
    "\n",
    "</body>\n",
    "\n",
    "<body>\n",
    "    <div id=\"div\">\n",
    "      div 태그는 콘텐츠의 영역이나 그룹화를 할때 사용!\n",
    "      배경색은 레이아웃 가로 모두에 적용 됩니다.\n",
    "    </div>\n",
    "\n",
    "    <br>\n",
    "\n",
    "    <span id=\"span\">\n",
    "        span 태그는 다른 텍스트와 구별하기 위해 사용하는데,\n",
    "        배경색은 글자가 있는곳만 적용합니다.\n",
    "    </span>\n",
    "\n",
    "    <br><br>\n",
    "    <!--div 내 span 사용 예시  -->\n",
    "    <div class=\"test1\">\n",
    "      div 태그는 콘텐츠의 영역이나 그룹화를 할때 사용!\n",
    "      배경색은 레이아웃 가로 모두에 적용 됩니다.\n",
    "      <span class=\"test2\"> span 태그는 다른 텍스트와 구별하기 위해 사용하는데,\n",
    "      배경색은 글자가 있는곳만 적용합니다.</span>\n",
    "      div 태그는 콘텐츠의 영역이나 그룹화를 할때 사용!\n",
    "      배경색은 레이아웃 가로 모두에 적용 됩니다.\n",
    "    </div>\n",
    "\n",
    "\n",
    "</body>'''"
   ]
  },
  {
   "cell_type": "code",
   "execution_count": 104,
   "metadata": {},
   "outputs": [
    {
     "data": {
      "text/plain": [
       "<body>\n",
       "<div id=\"div\">\n",
       "      div 태그는 콘텐츠의 영역이나 그룹화를 할때 사용!\n",
       "      배경색은 레이아웃 가로 모두에 적용 됩니다.\n",
       "    </div>\n",
       "<br/>\n",
       "<span id=\"span\">\n",
       "        span 태그는 다른 텍스트와 구별하기 위해 사용하는데,\n",
       "        배경색은 글자가 있는곳만 적용합니다.\n",
       "    </span>\n",
       "<br/><br/>\n",
       "<!--div 내 span 사용 예시  -->\n",
       "<div class=\"test1\">\n",
       "      div 태그는 콘텐츠의 영역이나 그룹화를 할때 사용!\n",
       "      배경색은 레이아웃 가로 모두에 적용 됩니다.\n",
       "      <span class=\"test2\"> span 태그는 다른 텍스트와 구별하기 위해 사용하는데,\n",
       "      배경색은 글자가 있는곳만 적용합니다.</span>\n",
       "      div 태그는 콘텐츠의 영역이나 그룹화를 할때 사용!\n",
       "      배경색은 레이아웃 가로 모두에 적용 됩니다.\n",
       "    </div>\n",
       "</body>"
      ]
     },
     "execution_count": 104,
     "metadata": {},
     "output_type": "execute_result"
    }
   ],
   "source": [
    "a = BeautifulSoup(example,'html.parser')\n",
    "b = a.find('body')\n",
    "b"
   ]
  },
  {
   "cell_type": "code",
   "execution_count": 105,
   "metadata": {},
   "outputs": [
    {
     "data": {
      "text/plain": [
       "<div class=\"test1\">\n",
       "      div 태그는 콘텐츠의 영역이나 그룹화를 할때 사용!\n",
       "      배경색은 레이아웃 가로 모두에 적용 됩니다.\n",
       "      <span class=\"test2\"> span 태그는 다른 텍스트와 구별하기 위해 사용하는데,\n",
       "      배경색은 글자가 있는곳만 적용합니다.</span>\n",
       "      div 태그는 콘텐츠의 영역이나 그룹화를 할때 사용!\n",
       "      배경색은 레이아웃 가로 모두에 적용 됩니다.\n",
       "    </div>"
      ]
     },
     "execution_count": 105,
     "metadata": {},
     "output_type": "execute_result"
    }
   ],
   "source": [
    "#범위를 축소해서 원하는 태그를 더 수월하게 추출해 낼 수 있음.\n",
    "b.find('div', {'class' : 'test1'})"
   ]
  },
  {
   "cell_type": "code",
   "execution_count": 80,
   "metadata": {},
   "outputs": [
    {
     "data": {
      "text/plain": [
       "<div id=\"div\">\n",
       "      div 태그는 콘텐츠의 영역이나 그룹화를 할때 사용!\n",
       "      배경색은 레이아웃 가로 모두에 적용 됩니다.\n",
       "    </div>"
      ]
     },
     "execution_count": 80,
     "metadata": {},
     "output_type": "execute_result"
    }
   ],
   "source": [
    "b.find('div', id='div')"
   ]
  },
  {
   "cell_type": "markdown",
   "metadata": {},
   "source": [
    "### find : 2. HTML코드의 속성추출\n",
    "\n",
    "<a class=\"test2\" href='https://naver.com''> 태그의 속성뽑기\n"
   ]
  },
  {
   "cell_type": "code",
   "execution_count": 4,
   "metadata": {},
   "outputs": [],
   "source": [
    "example2 = '''\n",
    "<body>\n",
    "    <div id=\"div\">\n",
    "      div 태그는 콘텐츠의 영역이나 그룹화를 할때 사용!\n",
    "      배경색은 레이아웃 가로 모두에 적용 됩니다.\n",
    "    </div>\n",
    "\n",
    "    <br>\n",
    "\n",
    "    <span id=\"span\">\n",
    "        span 태그는 다른 텍스트와 구별하기 위해 사용하는데,\n",
    "        배경색은 글자가 있는곳만 적용합니다.\n",
    "    </span>\n",
    "\n",
    "    <br><br>\n",
    "    <!--div 내 span 사용 예시  -->\n",
    "    <div class=\"test1\">\n",
    "      div 태그는 콘텐츠의 영역이나 그룹화를 할때 사용!\n",
    "      배경색은 레이아웃 가로 모두에 적용 됩니다.\n",
    "\n",
    "      <a class=\"test2\" href='https://naver.com'> span 태그는 다른 텍스트와 구별하기 위해 사용하는데,\n",
    "      배경색은 글자가 있는곳만 적용합니다.</a>\n",
    "      \n",
    "      div 태그는 콘텐츠의 영역이나 그룹화를 할때 사용!\n",
    "      배경색은 레이아웃 가로 모두에 적용 됩니다.\n",
    "    </div>\n",
    "\n",
    "\n",
    "</body>'''"
   ]
  },
  {
   "cell_type": "code",
   "execution_count": 5,
   "metadata": {
    "scrolled": true
   },
   "outputs": [
    {
     "data": {
      "text/plain": [
       "<a class=\"test2\" href=\"https://naver.com\"> span 태그는 다른 텍스트와 구별하기 위해 사용하는데,\n",
       "      배경색은 글자가 있는곳만 적용합니다.</a>"
      ]
     },
     "execution_count": 5,
     "metadata": {},
     "output_type": "execute_result"
    }
   ],
   "source": [
    "c = BeautifulSoup(example2,'html.parser')\n",
    "d = c.find('a', class_='test2')\n",
    "d"
   ]
  },
  {
   "cell_type": "code",
   "execution_count": 108,
   "metadata": {},
   "outputs": [
    {
     "data": {
      "text/plain": [
       "'https://naver.com'"
      ]
     },
     "execution_count": 108,
     "metadata": {},
     "output_type": "execute_result"
    }
   ],
   "source": [
    "d['href']"
   ]
  },
  {
   "cell_type": "code",
   "execution_count": 109,
   "metadata": {},
   "outputs": [
    {
     "data": {
      "text/plain": [
       "['test2']"
      ]
     },
     "execution_count": 109,
     "metadata": {},
     "output_type": "execute_result"
    }
   ],
   "source": [
    "d['class']\n",
    "#주로 href의 속성을 많이 뽑아서 다음 사이트로 이동할 때 활용한다."
   ]
  },
  {
   "cell_type": "markdown",
   "metadata": {},
   "source": [
    "# Pandas\n",
    "\n",
    "1주차 과제로 얻은 리스트keyword1와 range(1,21)을 활용한 데이터프레임 생성"
   ]
  },
  {
   "cell_type": "code",
   "execution_count": 60,
   "metadata": {},
   "outputs": [],
   "source": [
    "#생성\n",
    "df = pd.DataFrame({'keyword' : keyword1, 'rank' : range(1,21)}) #feature명 : data 를 dict형태로 나열.\n",
    "#R에서는 1:20을 쓰면되지만, PYthon은 할 수 없기 떄문에 range(1,21)이나 [1,2,...,20]을 써야함"
   ]
  },
  {
   "cell_type": "code",
   "execution_count": 61,
   "metadata": {},
   "outputs": [
    {
     "data": {
      "text/html": [
       "<div>\n",
       "<style scoped>\n",
       "    .dataframe tbody tr th:only-of-type {\n",
       "        vertical-align: middle;\n",
       "    }\n",
       "\n",
       "    .dataframe tbody tr th {\n",
       "        vertical-align: top;\n",
       "    }\n",
       "\n",
       "    .dataframe thead th {\n",
       "        text-align: right;\n",
       "    }\n",
       "</style>\n",
       "<table border=\"1\" class=\"dataframe\">\n",
       "  <thead>\n",
       "    <tr style=\"text-align: right;\">\n",
       "      <th></th>\n",
       "      <th>keyword</th>\n",
       "      <th>rank</th>\n",
       "    </tr>\n",
       "  </thead>\n",
       "  <tbody>\n",
       "    <tr>\n",
       "      <th>0</th>\n",
       "      <td>정유안</td>\n",
       "      <td>1</td>\n",
       "    </tr>\n",
       "    <tr>\n",
       "      <th>1</th>\n",
       "      <td>김형은</td>\n",
       "      <td>2</td>\n",
       "    </tr>\n",
       "    <tr>\n",
       "      <th>2</th>\n",
       "      <td>2019 스타벅스 럭키백</td>\n",
       "      <td>3</td>\n",
       "    </tr>\n",
       "    <tr>\n",
       "      <th>3</th>\n",
       "      <td>키디비</td>\n",
       "      <td>4</td>\n",
       "    </tr>\n",
       "    <tr>\n",
       "      <th>4</th>\n",
       "      <td>김예령</td>\n",
       "      <td>5</td>\n",
       "    </tr>\n",
       "  </tbody>\n",
       "</table>\n",
       "</div>"
      ],
      "text/plain": [
       "         keyword  rank\n",
       "0            정유안     1\n",
       "1            김형은     2\n",
       "2  2019 스타벅스 럭키백     3\n",
       "3            키디비     4\n",
       "4            김예령     5"
      ]
     },
     "execution_count": 61,
     "metadata": {},
     "output_type": "execute_result"
    }
   ],
   "source": [
    "df.head()"
   ]
  },
  {
   "cell_type": "code",
   "execution_count": 63,
   "metadata": {},
   "outputs": [],
   "source": [
    "#date와 time, Portal열을 추가\n",
    "import time\n",
    "df['date'] = time.strftime(\"%y%m%d\",time.localtime())\n",
    "df['time'] = time.strftime(\"%H%M\",time.localtime())\n",
    "df['Portal'] = 'Zum'"
   ]
  },
  {
   "cell_type": "code",
   "execution_count": 111,
   "metadata": {},
   "outputs": [
    {
     "data": {
      "text/html": [
       "<div>\n",
       "<style scoped>\n",
       "    .dataframe tbody tr th:only-of-type {\n",
       "        vertical-align: middle;\n",
       "    }\n",
       "\n",
       "    .dataframe tbody tr th {\n",
       "        vertical-align: top;\n",
       "    }\n",
       "\n",
       "    .dataframe thead th {\n",
       "        text-align: right;\n",
       "    }\n",
       "</style>\n",
       "<table border=\"1\" class=\"dataframe\">\n",
       "  <thead>\n",
       "    <tr style=\"text-align: right;\">\n",
       "      <th></th>\n",
       "      <th>keyword</th>\n",
       "      <th>rank</th>\n",
       "      <th>date</th>\n",
       "      <th>time</th>\n",
       "      <th>Portal</th>\n",
       "    </tr>\n",
       "  </thead>\n",
       "  <tbody>\n",
       "    <tr>\n",
       "      <th>0</th>\n",
       "      <td>현빈 손예진</td>\n",
       "      <td>1</td>\n",
       "      <td>190110</td>\n",
       "      <td>1626</td>\n",
       "      <td>Zum</td>\n",
       "    </tr>\n",
       "    <tr>\n",
       "      <th>1</th>\n",
       "      <td>정유안</td>\n",
       "      <td>2</td>\n",
       "      <td>190110</td>\n",
       "      <td>1626</td>\n",
       "      <td>Zum</td>\n",
       "    </tr>\n",
       "    <tr>\n",
       "      <th>2</th>\n",
       "      <td>김예령</td>\n",
       "      <td>3</td>\n",
       "      <td>190110</td>\n",
       "      <td>1626</td>\n",
       "      <td>Zum</td>\n",
       "    </tr>\n",
       "    <tr>\n",
       "      <th>3</th>\n",
       "      <td>2019 스타벅스 럭키백</td>\n",
       "      <td>4</td>\n",
       "      <td>190110</td>\n",
       "      <td>1626</td>\n",
       "      <td>Zum</td>\n",
       "    </tr>\n",
       "    <tr>\n",
       "      <th>4</th>\n",
       "      <td>키디비</td>\n",
       "      <td>5</td>\n",
       "      <td>190110</td>\n",
       "      <td>1626</td>\n",
       "      <td>Zum</td>\n",
       "    </tr>\n",
       "  </tbody>\n",
       "</table>\n",
       "</div>"
      ],
      "text/plain": [
       "         keyword  rank    date  time Portal\n",
       "0         현빈 손예진     1  190110  1626    Zum\n",
       "1            정유안     2  190110  1626    Zum\n",
       "2            김예령     3  190110  1626    Zum\n",
       "3  2019 스타벅스 럭키백     4  190110  1626    Zum\n",
       "4            키디비     5  190110  1626    Zum"
      ]
     },
     "execution_count": 111,
     "metadata": {},
     "output_type": "execute_result"
    }
   ],
   "source": [
    "df.head()"
   ]
  },
  {
   "cell_type": "code",
   "execution_count": 118,
   "metadata": {},
   "outputs": [],
   "source": [
    "df.to_csv('./week2.csv', index=False)"
   ]
  },
  {
   "cell_type": "code",
   "execution_count": 120,
   "metadata": {},
   "outputs": [
    {
     "data": {
      "text/html": [
       "<div>\n",
       "<style scoped>\n",
       "    .dataframe tbody tr th:only-of-type {\n",
       "        vertical-align: middle;\n",
       "    }\n",
       "\n",
       "    .dataframe tbody tr th {\n",
       "        vertical-align: top;\n",
       "    }\n",
       "\n",
       "    .dataframe thead th {\n",
       "        text-align: right;\n",
       "    }\n",
       "</style>\n",
       "<table border=\"1\" class=\"dataframe\">\n",
       "  <thead>\n",
       "    <tr style=\"text-align: right;\">\n",
       "      <th></th>\n",
       "      <th>keyword</th>\n",
       "      <th>rank</th>\n",
       "      <th>date</th>\n",
       "      <th>time</th>\n",
       "      <th>Portal</th>\n",
       "    </tr>\n",
       "  </thead>\n",
       "  <tbody>\n",
       "    <tr>\n",
       "      <th>0</th>\n",
       "      <td>현빈 손예진</td>\n",
       "      <td>1</td>\n",
       "      <td>190110</td>\n",
       "      <td>1626</td>\n",
       "      <td>Zum</td>\n",
       "    </tr>\n",
       "    <tr>\n",
       "      <th>1</th>\n",
       "      <td>정유안</td>\n",
       "      <td>2</td>\n",
       "      <td>190110</td>\n",
       "      <td>1626</td>\n",
       "      <td>Zum</td>\n",
       "    </tr>\n",
       "    <tr>\n",
       "      <th>2</th>\n",
       "      <td>김예령</td>\n",
       "      <td>3</td>\n",
       "      <td>190110</td>\n",
       "      <td>1626</td>\n",
       "      <td>Zum</td>\n",
       "    </tr>\n",
       "    <tr>\n",
       "      <th>3</th>\n",
       "      <td>2019 스타벅스 럭키백</td>\n",
       "      <td>4</td>\n",
       "      <td>190110</td>\n",
       "      <td>1626</td>\n",
       "      <td>Zum</td>\n",
       "    </tr>\n",
       "    <tr>\n",
       "      <th>4</th>\n",
       "      <td>키디비</td>\n",
       "      <td>5</td>\n",
       "      <td>190110</td>\n",
       "      <td>1626</td>\n",
       "      <td>Zum</td>\n",
       "    </tr>\n",
       "  </tbody>\n",
       "</table>\n",
       "</div>"
      ],
      "text/plain": [
       "         keyword  rank    date  time Portal\n",
       "0         현빈 손예진     1  190110  1626    Zum\n",
       "1            정유안     2  190110  1626    Zum\n",
       "2            김예령     3  190110  1626    Zum\n",
       "3  2019 스타벅스 럭키백     4  190110  1626    Zum\n",
       "4            키디비     5  190110  1626    Zum"
      ]
     },
     "execution_count": 120,
     "metadata": {},
     "output_type": "execute_result"
    }
   ],
   "source": [
    "df1 = pd.read_csv('./week2.csv')\n",
    "df1.head()"
   ]
  },
  {
   "cell_type": "markdown",
   "metadata": {},
   "source": [
    "## 최종코드"
   ]
  },
  {
   "cell_type": "code",
   "execution_count": 121,
   "metadata": {},
   "outputs": [
    {
     "data": {
      "text/html": [
       "<div>\n",
       "<style scoped>\n",
       "    .dataframe tbody tr th:only-of-type {\n",
       "        vertical-align: middle;\n",
       "    }\n",
       "\n",
       "    .dataframe tbody tr th {\n",
       "        vertical-align: top;\n",
       "    }\n",
       "\n",
       "    .dataframe thead th {\n",
       "        text-align: right;\n",
       "    }\n",
       "</style>\n",
       "<table border=\"1\" class=\"dataframe\">\n",
       "  <thead>\n",
       "    <tr style=\"text-align: right;\">\n",
       "      <th></th>\n",
       "      <th>keyword</th>\n",
       "      <th>rank</th>\n",
       "      <th>date</th>\n",
       "      <th>time</th>\n",
       "      <th>Portal</th>\n",
       "    </tr>\n",
       "  </thead>\n",
       "  <tbody>\n",
       "    <tr>\n",
       "      <th>0</th>\n",
       "      <td>손예진</td>\n",
       "      <td>1</td>\n",
       "      <td>190110</td>\n",
       "      <td>1758</td>\n",
       "      <td>Zum</td>\n",
       "    </tr>\n",
       "    <tr>\n",
       "      <th>1</th>\n",
       "      <td>아이돌 아버지 셰프</td>\n",
       "      <td>2</td>\n",
       "      <td>190110</td>\n",
       "      <td>1758</td>\n",
       "      <td>Zum</td>\n",
       "    </tr>\n",
       "    <tr>\n",
       "      <th>2</th>\n",
       "      <td>김예령</td>\n",
       "      <td>3</td>\n",
       "      <td>190110</td>\n",
       "      <td>1758</td>\n",
       "      <td>Zum</td>\n",
       "    </tr>\n",
       "    <tr>\n",
       "      <th>3</th>\n",
       "      <td>롯데리아 핫크리스피버거</td>\n",
       "      <td>4</td>\n",
       "      <td>190110</td>\n",
       "      <td>1758</td>\n",
       "      <td>Zum</td>\n",
       "    </tr>\n",
       "    <tr>\n",
       "      <th>4</th>\n",
       "      <td>현빈 나이</td>\n",
       "      <td>5</td>\n",
       "      <td>190110</td>\n",
       "      <td>1758</td>\n",
       "      <td>Zum</td>\n",
       "    </tr>\n",
       "    <tr>\n",
       "      <th>5</th>\n",
       "      <td>메간 폭스</td>\n",
       "      <td>6</td>\n",
       "      <td>190110</td>\n",
       "      <td>1758</td>\n",
       "      <td>Zum</td>\n",
       "    </tr>\n",
       "    <tr>\n",
       "      <th>6</th>\n",
       "      <td>키디비</td>\n",
       "      <td>7</td>\n",
       "      <td>190110</td>\n",
       "      <td>1758</td>\n",
       "      <td>Zum</td>\n",
       "    </tr>\n",
       "    <tr>\n",
       "      <th>7</th>\n",
       "      <td>2019 스타벅스 럭키백</td>\n",
       "      <td>8</td>\n",
       "      <td>190110</td>\n",
       "      <td>1758</td>\n",
       "      <td>Zum</td>\n",
       "    </tr>\n",
       "    <tr>\n",
       "      <th>8</th>\n",
       "      <td>정유안</td>\n",
       "      <td>9</td>\n",
       "      <td>190110</td>\n",
       "      <td>1758</td>\n",
       "      <td>Zum</td>\n",
       "    </tr>\n",
       "    <tr>\n",
       "      <th>9</th>\n",
       "      <td>김형은</td>\n",
       "      <td>10</td>\n",
       "      <td>190110</td>\n",
       "      <td>1758</td>\n",
       "      <td>Zum</td>\n",
       "    </tr>\n",
       "    <tr>\n",
       "      <th>10</th>\n",
       "      <td>심석희 성폭행</td>\n",
       "      <td>11</td>\n",
       "      <td>190110</td>\n",
       "      <td>1758</td>\n",
       "      <td>Zum</td>\n",
       "    </tr>\n",
       "    <tr>\n",
       "      <th>11</th>\n",
       "      <td>한국 키르기스스탄</td>\n",
       "      <td>12</td>\n",
       "      <td>190110</td>\n",
       "      <td>1758</td>\n",
       "      <td>Zum</td>\n",
       "    </tr>\n",
       "    <tr>\n",
       "      <th>12</th>\n",
       "      <td>블랙넛</td>\n",
       "      <td>13</td>\n",
       "      <td>190110</td>\n",
       "      <td>1758</td>\n",
       "      <td>Zum</td>\n",
       "    </tr>\n",
       "    <tr>\n",
       "      <th>13</th>\n",
       "      <td>성인애착유형테스트</td>\n",
       "      <td>14</td>\n",
       "      <td>190110</td>\n",
       "      <td>1758</td>\n",
       "      <td>Zum</td>\n",
       "    </tr>\n",
       "    <tr>\n",
       "      <th>14</th>\n",
       "      <td>여준형</td>\n",
       "      <td>15</td>\n",
       "      <td>190110</td>\n",
       "      <td>1758</td>\n",
       "      <td>Zum</td>\n",
       "    </tr>\n",
       "    <tr>\n",
       "      <th>15</th>\n",
       "      <td>협상</td>\n",
       "      <td>16</td>\n",
       "      <td>190110</td>\n",
       "      <td>1758</td>\n",
       "      <td>Zum</td>\n",
       "    </tr>\n",
       "    <tr>\n",
       "      <th>16</th>\n",
       "      <td>자동차세연납</td>\n",
       "      <td>17</td>\n",
       "      <td>190110</td>\n",
       "      <td>1758</td>\n",
       "      <td>Zum</td>\n",
       "    </tr>\n",
       "    <tr>\n",
       "      <th>17</th>\n",
       "      <td>하이라이즈</td>\n",
       "      <td>18</td>\n",
       "      <td>190110</td>\n",
       "      <td>1758</td>\n",
       "      <td>Zum</td>\n",
       "    </tr>\n",
       "    <tr>\n",
       "      <th>18</th>\n",
       "      <td>캄보디아</td>\n",
       "      <td>19</td>\n",
       "      <td>190110</td>\n",
       "      <td>1758</td>\n",
       "      <td>Zum</td>\n",
       "    </tr>\n",
       "    <tr>\n",
       "      <th>19</th>\n",
       "      <td>건양대학교</td>\n",
       "      <td>20</td>\n",
       "      <td>190110</td>\n",
       "      <td>1758</td>\n",
       "      <td>Zum</td>\n",
       "    </tr>\n",
       "  </tbody>\n",
       "</table>\n",
       "</div>"
      ],
      "text/plain": [
       "          keyword  rank    date  time Portal\n",
       "0             손예진     1  190110  1758    Zum\n",
       "1      아이돌 아버지 셰프     2  190110  1758    Zum\n",
       "2             김예령     3  190110  1758    Zum\n",
       "3    롯데리아 핫크리스피버거     4  190110  1758    Zum\n",
       "4           현빈 나이     5  190110  1758    Zum\n",
       "5           메간 폭스     6  190110  1758    Zum\n",
       "6             키디비     7  190110  1758    Zum\n",
       "7   2019 스타벅스 럭키백     8  190110  1758    Zum\n",
       "8             정유안     9  190110  1758    Zum\n",
       "9             김형은    10  190110  1758    Zum\n",
       "10        심석희 성폭행    11  190110  1758    Zum\n",
       "11      한국 키르기스스탄    12  190110  1758    Zum\n",
       "12            블랙넛    13  190110  1758    Zum\n",
       "13      성인애착유형테스트    14  190110  1758    Zum\n",
       "14            여준형    15  190110  1758    Zum\n",
       "15             협상    16  190110  1758    Zum\n",
       "16         자동차세연납    17  190110  1758    Zum\n",
       "17          하이라이즈    18  190110  1758    Zum\n",
       "18           캄보디아    19  190110  1758    Zum\n",
       "19          건양대학교    20  190110  1758    Zum"
      ]
     },
     "execution_count": 121,
     "metadata": {},
     "output_type": "execute_result"
    }
   ],
   "source": [
    "import requests\n",
    "from bs4 import BeautifulSoup\n",
    "import pandas as pd\n",
    "import time\n",
    "\n",
    "url = \"http://zum.com/#!/home\"\n",
    "response = requests.get(url)\n",
    "html = response.text\n",
    "soup = BeautifulSoup(html, \"html.parser\")\n",
    "\n",
    "raw1 = soup.find_all('span', {'class' : 'keyword d_keyword'})\n",
    "keyword_raw1 = [i.text for i in raw1]\n",
    "keyword1 = [keyword_raw1[j] for j in range(40) if j%2 == 1]\n",
    "\n",
    "#생성\n",
    "df = pd.DataFrame({'keyword' : keyword1, 'rank' : range(1,21)})\n",
    "df['date'] = time.strftime(\"%y%m%d\",time.localtime())\n",
    "df['time'] = time.strftime(\"%H%M\",time.localtime())\n",
    "df['Portal'] = 'Zum'\n",
    "\n",
    "df.to_csv('./week2.csv', index=False)\n",
    "df"
   ]
  },
  {
   "cell_type": "markdown",
   "metadata": {},
   "source": [
    "### 추천 참고사이트\n",
    "\n",
    "- 파이썬 기초\n",
    "https://wikidocs.net/book/1\n",
    "\n",
    "- HTML 구조\n",
    "https://opentutorials.org/course/   \n",
    "(따라하시지않고 __웹사이트 만들기__까지 영상을 보시기만 하셔도 도움됩니다!)\n",
    "\n",
    "- 판다스 기초  \n",
    "https://doorbw.tistory.com/172  \n",
    "https://cafe.naver.com/boazbigdata/3859 (갓형률님께서 만들어주신 파이썬 베이직)"
   ]
  },
  {
   "cell_type": "markdown",
   "metadata": {},
   "source": [
    "## 문제1\n",
    "#### 네이버와 다음 홈페이지를 크롤링하여 아래와 같은 데이터프레임을 생성해주세요"
   ]
  },
  {
   "cell_type": "code",
   "execution_count": 12,
   "metadata": {},
   "outputs": [
    {
     "data": {
      "text/html": [
       "<div>\n",
       "<style scoped>\n",
       "    .dataframe tbody tr th:only-of-type {\n",
       "        vertical-align: middle;\n",
       "    }\n",
       "\n",
       "    .dataframe tbody tr th {\n",
       "        vertical-align: top;\n",
       "    }\n",
       "\n",
       "    .dataframe thead th {\n",
       "        text-align: right;\n",
       "    }\n",
       "</style>\n",
       "<table border=\"1\" class=\"dataframe\">\n",
       "  <thead>\n",
       "    <tr style=\"text-align: right;\">\n",
       "      <th></th>\n",
       "      <th>date</th>\n",
       "      <th>hm</th>\n",
       "      <th>site</th>\n",
       "      <th>rank</th>\n",
       "      <th>search_word</th>\n",
       "    </tr>\n",
       "  </thead>\n",
       "  <tbody>\n",
       "    <tr>\n",
       "      <th>0</th>\n",
       "      <td>190111</td>\n",
       "      <td>0132</td>\n",
       "      <td>naver</td>\n",
       "      <td>1</td>\n",
       "      <td>txt</td>\n",
       "    </tr>\n",
       "    <tr>\n",
       "      <th>1</th>\n",
       "      <td>190111</td>\n",
       "      <td>0132</td>\n",
       "      <td>naver</td>\n",
       "      <td>2</td>\n",
       "      <td>김예령</td>\n",
       "    </tr>\n",
       "    <tr>\n",
       "      <th>2</th>\n",
       "      <td>190111</td>\n",
       "      <td>0132</td>\n",
       "      <td>naver</td>\n",
       "      <td>3</td>\n",
       "      <td>연준</td>\n",
       "    </tr>\n",
       "    <tr>\n",
       "      <th>3</th>\n",
       "      <td>190111</td>\n",
       "      <td>0132</td>\n",
       "      <td>naver</td>\n",
       "      <td>4</td>\n",
       "      <td>고주원</td>\n",
       "    </tr>\n",
       "    <tr>\n",
       "      <th>4</th>\n",
       "      <td>190111</td>\n",
       "      <td>0132</td>\n",
       "      <td>naver</td>\n",
       "      <td>5</td>\n",
       "      <td>연애의맛김성원</td>\n",
       "    </tr>\n",
       "    <tr>\n",
       "      <th>5</th>\n",
       "      <td>190111</td>\n",
       "      <td>0132</td>\n",
       "      <td>naver</td>\n",
       "      <td>6</td>\n",
       "      <td>정영주 김성원</td>\n",
       "    </tr>\n",
       "    <tr>\n",
       "      <th>6</th>\n",
       "      <td>190111</td>\n",
       "      <td>0132</td>\n",
       "      <td>naver</td>\n",
       "      <td>7</td>\n",
       "      <td>프리즌</td>\n",
       "    </tr>\n",
       "    <tr>\n",
       "      <th>7</th>\n",
       "      <td>190111</td>\n",
       "      <td>0132</td>\n",
       "      <td>naver</td>\n",
       "      <td>8</td>\n",
       "      <td>빅히트</td>\n",
       "    </tr>\n",
       "    <tr>\n",
       "      <th>8</th>\n",
       "      <td>190111</td>\n",
       "      <td>0132</td>\n",
       "      <td>naver</td>\n",
       "      <td>9</td>\n",
       "      <td>에이핑크 응응</td>\n",
       "    </tr>\n",
       "    <tr>\n",
       "      <th>9</th>\n",
       "      <td>190111</td>\n",
       "      <td>0132</td>\n",
       "      <td>naver</td>\n",
       "      <td>10</td>\n",
       "      <td>김새론</td>\n",
       "    </tr>\n",
       "    <tr>\n",
       "      <th>10</th>\n",
       "      <td>190111</td>\n",
       "      <td>0132</td>\n",
       "      <td>daum</td>\n",
       "      <td>1</td>\n",
       "      <td>윤소희</td>\n",
       "    </tr>\n",
       "    <tr>\n",
       "      <th>11</th>\n",
       "      <td>190111</td>\n",
       "      <td>0132</td>\n",
       "      <td>daum</td>\n",
       "      <td>2</td>\n",
       "      <td>김진아</td>\n",
       "    </tr>\n",
       "    <tr>\n",
       "      <th>12</th>\n",
       "      <td>190111</td>\n",
       "      <td>0132</td>\n",
       "      <td>daum</td>\n",
       "      <td>3</td>\n",
       "      <td>txt</td>\n",
       "    </tr>\n",
       "    <tr>\n",
       "      <th>13</th>\n",
       "      <td>190111</td>\n",
       "      <td>0132</td>\n",
       "      <td>daum</td>\n",
       "      <td>4</td>\n",
       "      <td>오하영</td>\n",
       "    </tr>\n",
       "    <tr>\n",
       "      <th>14</th>\n",
       "      <td>190111</td>\n",
       "      <td>0132</td>\n",
       "      <td>daum</td>\n",
       "      <td>5</td>\n",
       "      <td>김보름</td>\n",
       "    </tr>\n",
       "    <tr>\n",
       "      <th>15</th>\n",
       "      <td>190111</td>\n",
       "      <td>0132</td>\n",
       "      <td>daum</td>\n",
       "      <td>6</td>\n",
       "      <td>인도 아랍 에미리트</td>\n",
       "    </tr>\n",
       "    <tr>\n",
       "      <th>16</th>\n",
       "      <td>190111</td>\n",
       "      <td>0132</td>\n",
       "      <td>daum</td>\n",
       "      <td>7</td>\n",
       "      <td>손예진</td>\n",
       "    </tr>\n",
       "    <tr>\n",
       "      <th>17</th>\n",
       "      <td>190111</td>\n",
       "      <td>0132</td>\n",
       "      <td>daum</td>\n",
       "      <td>8</td>\n",
       "      <td>송재림</td>\n",
       "    </tr>\n",
       "    <tr>\n",
       "      <th>18</th>\n",
       "      <td>190111</td>\n",
       "      <td>0132</td>\n",
       "      <td>daum</td>\n",
       "      <td>9</td>\n",
       "      <td>김정훈</td>\n",
       "    </tr>\n",
       "    <tr>\n",
       "      <th>19</th>\n",
       "      <td>190111</td>\n",
       "      <td>0132</td>\n",
       "      <td>daum</td>\n",
       "      <td>10</td>\n",
       "      <td>김새론</td>\n",
       "    </tr>\n",
       "  </tbody>\n",
       "</table>\n",
       "</div>"
      ],
      "text/plain": [
       "      date    hm   site  rank search_word\n",
       "0   190111  0132  naver     1         txt\n",
       "1   190111  0132  naver     2         김예령\n",
       "2   190111  0132  naver     3          연준\n",
       "3   190111  0132  naver     4         고주원\n",
       "4   190111  0132  naver     5     연애의맛김성원\n",
       "5   190111  0132  naver     6     정영주 김성원\n",
       "6   190111  0132  naver     7         프리즌\n",
       "7   190111  0132  naver     8         빅히트\n",
       "8   190111  0132  naver     9     에이핑크 응응\n",
       "9   190111  0132  naver    10         김새론\n",
       "10  190111  0132   daum     1         윤소희\n",
       "11  190111  0132   daum     2         김진아\n",
       "12  190111  0132   daum     3         txt\n",
       "13  190111  0132   daum     4         오하영\n",
       "14  190111  0132   daum     5         김보름\n",
       "15  190111  0132   daum     6  인도 아랍 에미리트\n",
       "16  190111  0132   daum     7         손예진\n",
       "17  190111  0132   daum     8         송재림\n",
       "18  190111  0132   daum     9         김정훈\n",
       "19  190111  0132   daum    10         김새론"
      ]
     },
     "execution_count": 12,
     "metadata": {},
     "output_type": "execute_result"
    }
   ],
   "source": [
    "df"
   ]
  }
 ],
 "metadata": {
  "kernelspec": {
   "display_name": "Python 3",
   "language": "python",
   "name": "python3"
  },
  "language_info": {
   "codemirror_mode": {
    "name": "ipython",
    "version": 3
   },
   "file_extension": ".py",
   "mimetype": "text/x-python",
   "name": "python",
   "nbconvert_exporter": "python",
   "pygments_lexer": "ipython3",
   "version": "3.7.0"
  }
 },
 "nbformat": 4,
 "nbformat_minor": 2
}
