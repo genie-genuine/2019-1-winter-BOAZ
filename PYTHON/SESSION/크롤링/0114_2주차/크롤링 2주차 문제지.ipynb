{
 "cells": [
  {
   "cell_type": "markdown",
   "metadata": {},
   "source": [
    "# 문제1\n",
    "네이버와 다음 홈페이지를 크롤링하여 아래와 같은 데이터프레임을 생성해주세요"
   ]
  },
  {
   "cell_type": "code",
   "execution_count": 2,
   "metadata": {
    "scrolled": true
   },
   "outputs": [
    {
     "data": {
      "text/html": [
       "<div>\n",
       "<style scoped>\n",
       "    .dataframe tbody tr th:only-of-type {\n",
       "        vertical-align: middle;\n",
       "    }\n",
       "\n",
       "    .dataframe tbody tr th {\n",
       "        vertical-align: top;\n",
       "    }\n",
       "\n",
       "    .dataframe thead th {\n",
       "        text-align: right;\n",
       "    }\n",
       "</style>\n",
       "<table border=\"1\" class=\"dataframe\">\n",
       "  <thead>\n",
       "    <tr style=\"text-align: right;\">\n",
       "      <th></th>\n",
       "      <th>date</th>\n",
       "      <th>hm</th>\n",
       "      <th>site</th>\n",
       "      <th>rank</th>\n",
       "      <th>search_word</th>\n",
       "    </tr>\n",
       "  </thead>\n",
       "  <tbody>\n",
       "    <tr>\n",
       "      <th>0</th>\n",
       "      <td>190111</td>\n",
       "      <td>0357</td>\n",
       "      <td>naver</td>\n",
       "      <td>1</td>\n",
       "      <td>김예령</td>\n",
       "    </tr>\n",
       "    <tr>\n",
       "      <th>1</th>\n",
       "      <td>190111</td>\n",
       "      <td>0357</td>\n",
       "      <td>naver</td>\n",
       "      <td>2</td>\n",
       "      <td>마약왕</td>\n",
       "    </tr>\n",
       "    <tr>\n",
       "      <th>2</th>\n",
       "      <td>190111</td>\n",
       "      <td>0357</td>\n",
       "      <td>naver</td>\n",
       "      <td>3</td>\n",
       "      <td>김보름</td>\n",
       "    </tr>\n",
       "    <tr>\n",
       "      <th>3</th>\n",
       "      <td>190111</td>\n",
       "      <td>0357</td>\n",
       "      <td>naver</td>\n",
       "      <td>4</td>\n",
       "      <td>블레이드 러너</td>\n",
       "    </tr>\n",
       "    <tr>\n",
       "      <th>4</th>\n",
       "      <td>190111</td>\n",
       "      <td>0357</td>\n",
       "      <td>naver</td>\n",
       "      <td>5</td>\n",
       "      <td>신아영</td>\n",
       "    </tr>\n",
       "    <tr>\n",
       "      <th>5</th>\n",
       "      <td>190111</td>\n",
       "      <td>0357</td>\n",
       "      <td>naver</td>\n",
       "      <td>6</td>\n",
       "      <td>txt</td>\n",
       "    </tr>\n",
       "    <tr>\n",
       "      <th>6</th>\n",
       "      <td>190111</td>\n",
       "      <td>0357</td>\n",
       "      <td>naver</td>\n",
       "      <td>7</td>\n",
       "      <td>윤소희</td>\n",
       "    </tr>\n",
       "    <tr>\n",
       "      <th>7</th>\n",
       "      <td>190111</td>\n",
       "      <td>0357</td>\n",
       "      <td>naver</td>\n",
       "      <td>8</td>\n",
       "      <td>고주원</td>\n",
       "    </tr>\n",
       "    <tr>\n",
       "      <th>8</th>\n",
       "      <td>190111</td>\n",
       "      <td>0357</td>\n",
       "      <td>naver</td>\n",
       "      <td>9</td>\n",
       "      <td>용준형</td>\n",
       "    </tr>\n",
       "    <tr>\n",
       "      <th>9</th>\n",
       "      <td>190111</td>\n",
       "      <td>0357</td>\n",
       "      <td>naver</td>\n",
       "      <td>10</td>\n",
       "      <td>손예진</td>\n",
       "    </tr>\n",
       "    <tr>\n",
       "      <th>10</th>\n",
       "      <td>190111</td>\n",
       "      <td>0357</td>\n",
       "      <td>daum</td>\n",
       "      <td>1</td>\n",
       "      <td>김예령 기자</td>\n",
       "    </tr>\n",
       "    <tr>\n",
       "      <th>11</th>\n",
       "      <td>190111</td>\n",
       "      <td>0357</td>\n",
       "      <td>daum</td>\n",
       "      <td>2</td>\n",
       "      <td>윤소희</td>\n",
       "    </tr>\n",
       "    <tr>\n",
       "      <th>12</th>\n",
       "      <td>190111</td>\n",
       "      <td>0357</td>\n",
       "      <td>daum</td>\n",
       "      <td>3</td>\n",
       "      <td>서울의료원</td>\n",
       "    </tr>\n",
       "    <tr>\n",
       "      <th>13</th>\n",
       "      <td>190111</td>\n",
       "      <td>0357</td>\n",
       "      <td>daum</td>\n",
       "      <td>4</td>\n",
       "      <td>송재림</td>\n",
       "    </tr>\n",
       "    <tr>\n",
       "      <th>14</th>\n",
       "      <td>190111</td>\n",
       "      <td>0357</td>\n",
       "      <td>daum</td>\n",
       "      <td>5</td>\n",
       "      <td>김진아</td>\n",
       "    </tr>\n",
       "    <tr>\n",
       "      <th>15</th>\n",
       "      <td>190111</td>\n",
       "      <td>0357</td>\n",
       "      <td>daum</td>\n",
       "      <td>6</td>\n",
       "      <td>고주원</td>\n",
       "    </tr>\n",
       "    <tr>\n",
       "      <th>16</th>\n",
       "      <td>190111</td>\n",
       "      <td>0357</td>\n",
       "      <td>daum</td>\n",
       "      <td>7</td>\n",
       "      <td>김보름</td>\n",
       "    </tr>\n",
       "    <tr>\n",
       "      <th>17</th>\n",
       "      <td>190111</td>\n",
       "      <td>0357</td>\n",
       "      <td>daum</td>\n",
       "      <td>8</td>\n",
       "      <td>손예진</td>\n",
       "    </tr>\n",
       "    <tr>\n",
       "      <th>18</th>\n",
       "      <td>190111</td>\n",
       "      <td>0357</td>\n",
       "      <td>daum</td>\n",
       "      <td>9</td>\n",
       "      <td>인도 아랍 에미리트</td>\n",
       "    </tr>\n",
       "    <tr>\n",
       "      <th>19</th>\n",
       "      <td>190111</td>\n",
       "      <td>0357</td>\n",
       "      <td>daum</td>\n",
       "      <td>10</td>\n",
       "      <td>최화정</td>\n",
       "    </tr>\n",
       "  </tbody>\n",
       "</table>\n",
       "</div>"
      ],
      "text/plain": [
       "      date    hm   site  rank search_word\n",
       "0   190111  0357  naver     1         김예령\n",
       "1   190111  0357  naver     2         마약왕\n",
       "2   190111  0357  naver     3         김보름\n",
       "3   190111  0357  naver     4     블레이드 러너\n",
       "4   190111  0357  naver     5         신아영\n",
       "5   190111  0357  naver     6         txt\n",
       "6   190111  0357  naver     7         윤소희\n",
       "7   190111  0357  naver     8         고주원\n",
       "8   190111  0357  naver     9         용준형\n",
       "9   190111  0357  naver    10         손예진\n",
       "10  190111  0357   daum     1      김예령 기자\n",
       "11  190111  0357   daum     2         윤소희\n",
       "12  190111  0357   daum     3       서울의료원\n",
       "13  190111  0357   daum     4         송재림\n",
       "14  190111  0357   daum     5         김진아\n",
       "15  190111  0357   daum     6         고주원\n",
       "16  190111  0357   daum     7         김보름\n",
       "17  190111  0357   daum     8         손예진\n",
       "18  190111  0357   daum     9  인도 아랍 에미리트\n",
       "19  190111  0357   daum    10         최화정"
      ]
     },
     "execution_count": 2,
     "metadata": {},
     "output_type": "execute_result"
    }
   ],
   "source": [
    "df"
   ]
  },
  {
   "cell_type": "markdown",
   "metadata": {},
   "source": [
    "# 문제2\n",
    "\n",
    "아래 example변수에서 BeautifulSoup모듈을 활용해 정유안1, 2를 추출해보자  \n",
    "*단, find_all문과 a태그를 사용하여야한다.  \n",
    "*권장 사용줄 수: 3줄(모듈 import포함 4줄)"
   ]
  },
  {
   "cell_type": "code",
   "execution_count": 2,
   "metadata": {},
   "outputs": [],
   "source": [
    "example = '''\n",
    "<li class=\"d_rank\">\n",
    "<span class=\"r_num num_1\">1</span>\n",
    "<a class=\"d_btn_keyword\" data-order=\"1\" href=\"http://search.zum.com/search.zum?query=%EC%A0%95%EC%9C%A0%EC%95%88&amp;qm=g_real1.top&amp;real1_id=1&amp;method=uni&amp;option=accu\" title=\"정유안\">\n",
    "<span class=\"keyword d_keyword\">정유안1</span>\n",
    "</a>\n",
    "<a class=\"d_btn_keyword d_ready\" data-order=\"1\" href=\"http://search.zum.com/search.zum?query=%EC%A0%95%EC%9C%A0%EC%95%88&amp;qm=g_real1.top&amp;real1_id=1&amp;method=uni&amp;option=accu\" style=\"top:22px\" title=\"정유안\">\n",
    "<span class=\"keyword d_keyword\">정유안2</span>\n",
    "</a>\n",
    "</li>\n",
    "'''"
   ]
  },
  {
   "cell_type": "code",
   "execution_count": 8,
   "metadata": {},
   "outputs": [],
   "source": [
    "#여기에 module import를 포함하여 4줄로 코드를 작성해보세요"
   ]
  },
  {
   "cell_type": "code",
   "execution_count": 6,
   "metadata": {},
   "outputs": [
    {
     "data": {
      "text/plain": [
       "['\\n정유안1\\n', '\\n정유안2\\n']"
      ]
     },
     "execution_count": 6,
     "metadata": {},
     "output_type": "execute_result"
    }
   ],
   "source": [
    "#셀을 실행시켰을때 다음과 같은 결과가 나오면 좋겠습니다!\n",
    "[output[0].text, output[1].text]"
   ]
  },
  {
   "cell_type": "markdown",
   "metadata": {},
   "source": [
    "## 문제2과 관련된 학습\n",
    "* replace(내장 함수)\n",
    "* list comprehension(리스트 내포)\n",
    "* 정규표현식\n",
    "\n",
    "에 대해서 찾아보세요!\n",
    "    \n",
    "> [점프투파이썬](https://wikidocs.net/book/1)에 가시면 찾으실 수 있습니다!  \n",
    "> 세션에서 다루지 않을 예정이지만, 꼭 공부하셔야 할 것들입니다!"
   ]
  },
  {
   "cell_type": "code",
   "execution_count": 28,
   "metadata": {},
   "outputs": [
    {
     "data": {
      "text/plain": [
       "['정유안1', '정유안2']"
      ]
     },
     "execution_count": 28,
     "metadata": {},
     "output_type": "execute_result"
    }
   ],
   "source": [
    "#replace 함수와 list comprehension을 통해\n",
    "#데이터를 정제하고, 코드를 간결하게 작성할 수 있습니다.\n",
    "최종출력물 = [i.text.replace('\\n', '') for i in output]\n",
    "최종출력물"
   ]
  },
  {
   "cell_type": "markdown",
   "metadata": {},
   "source": [
    "# 문제3\n",
    "줌 실시간검색어 1등부터 20등까지의 모든 href를 추출하고, 리스트 혹은 데이터프레임을 생성해 보세요!"
   ]
  },
  {
   "cell_type": "code",
   "execution_count": 5,
   "metadata": {},
   "outputs": [
    {
     "data": {
      "text/plain": [
       "['http://search.zum.com/search.zum?query=%EA%B3%A0%EC%A3%BC%EC%9B%90&qm=g_real1.top&real1_id=1&method=uni&option=accu',\n",
       " 'http://search.zum.com/search.zum?query=txt&qm=g_real1.top&real1_id=2&method=uni&option=accu',\n",
       " 'http://search.zum.com/search.zum?query=%EA%B9%80%EC%83%88%EB%A1%A0&qm=g_real1.top&real1_id=3&method=uni&option=accu',\n",
       " 'http://search.zum.com/search.zum?query=%EC%97%B0%EC%95%A0%EC%9D%98%20%EB%A7%9B%20%EA%B9%80%EC%A7%84%EC%95%84&qm=g_real1.top&real1_id=4&method=uni&option=accu',\n",
       " 'http://search.zum.com/search.zum?query=%EB%B9%85%ED%9E%88%ED%8A%B8&qm=g_real1.top&real1_id=5&method=uni&option=accu',\n",
       " 'http://search.zum.com/search.zum?query=%ED%8C%94%EB%9D%BC%EC%9A%B0&qm=g_real1.top&real1_id=6&method=uni&option=accu',\n",
       " 'http://search.zum.com/search.zum?query=%EA%B9%80%EC%A0%95%ED%9B%88&qm=g_real1.top&real1_id=7&method=uni&option=accu',\n",
       " 'http://search.zum.com/search.zum?query=%EC%9D%B8%EC%A0%9C%20%EC%9E%90%EC%9E%91%EB%82%98%EB%AC%B4%EC%88%B2&qm=g_real1.top&real1_id=8&method=uni&option=accu',\n",
       " 'http://search.zum.com/search.zum?query=%EA%B9%80%EC%98%88%EB%A0%B9&qm=g_real1.top&real1_id=9&method=uni&option=accu',\n",
       " 'http://search.zum.com/search.zum?query=%EC%9C%A4%EC%86%8C%ED%9D%AC&qm=g_real1.top&real1_id=10&method=uni&option=accu',\n",
       " 'http://search.zum.com/search.zum?query=%ED%98%84%EB%B9%88%20%EC%86%90%EC%98%88%EC%A7%84&qm=g_real1.top&real1_id=11&method=uni&option=accu',\n",
       " 'http://search.zum.com/search.zum?query=%EC%97%B0%EC%A4%80&qm=g_real1.top&real1_id=12&method=uni&option=accu',\n",
       " 'http://search.zum.com/search.zum?query=%EB%A5%98%EB%8D%95%ED%99%98&qm=g_real1.top&real1_id=13&method=uni&option=accu',\n",
       " 'http://search.zum.com/search.zum?query=%EC%8B%A0%EC%95%84%EC%98%81&qm=g_real1.top&real1_id=14&method=uni&option=accu',\n",
       " 'http://search.zum.com/search.zum?query=%EA%B9%80%EB%B3%B4%EB%A6%84&qm=g_real1.top&real1_id=15&method=uni&option=accu',\n",
       " 'http://search.zum.com/search.zum?query=%EC%A0%95%EC%98%81%EC%A3%BC%20%EA%B9%80%EC%84%B1%EC%9B%90&qm=g_real1.top&real1_id=16&method=uni&option=accu',\n",
       " 'http://search.zum.com/search.zum?query=%EC%8B%A0%EC%9D%98%ED%80%B4%EC%A6%88&qm=g_real1.top&real1_id=17&method=uni&option=accu',\n",
       " 'http://search.zum.com/search.zum?query=%EC%95%84%EC%8B%9C%EC%95%88%EC%BB%B5&qm=g_real1.top&real1_id=18&method=uni&option=accu',\n",
       " 'http://search.zum.com/search.zum?query=%EA%B9%80%EC%9E%AC%EC%9A%B1&qm=g_real1.top&real1_id=19&method=uni&option=accu',\n",
       " 'http://search.zum.com/search.zum?query=%ED%99%A9%ED%9B%84%EC%9D%98%20%ED%92%88%EA%B2%A9&qm=g_real1.top&real1_id=20&method=uni&option=accu']"
      ]
     },
     "execution_count": 5,
     "metadata": {},
     "output_type": "execute_result"
    }
   ],
   "source": [
    "#예시"
   ]
  }
 ],
 "metadata": {
  "kernelspec": {
   "display_name": "Python 3",
   "language": "python",
   "name": "python3"
  },
  "language_info": {
   "codemirror_mode": {
    "name": "ipython",
    "version": 3
   },
   "file_extension": ".py",
   "mimetype": "text/x-python",
   "name": "python",
   "nbconvert_exporter": "python",
   "pygments_lexer": "ipython3",
   "version": "3.7.1"
  }
 },
 "nbformat": 4,
 "nbformat_minor": 2
}
