{
 "cells": [
  {
   "cell_type": "markdown",
   "metadata": {},
   "source": [
    "# 과제1 \n",
    "실검 관련 블로그,카페,뉴스 개수 추출기  \n",
    "(포털사이트에서 블로그,카페,뉴스 검색결과 개수 등을 데이터프레임화해보세요! 네이트는 selenium사용해야 할 거예요!)"
   ]
  },
  {
   "cell_type": "markdown",
   "metadata": {},
   "source": [
    "# 과제2\n",
    "[유튜브 원더케이 동영상리스트](https://www.youtube.com/user/LOENENT/videos)의 최근 동영상 300개의제목,조회수,댓글수를 데이터프레임화해보세요! (원하는 채널 하셔도 좋습니다!)  \n",
    "https://m.blog.naver.com/kiddwannabe/221310063239 는 필요하실거라 올려봅니당.\n"
   ]
  },
  {
   "cell_type": "markdown",
   "metadata": {},
   "source": [
    "# 과제3\n",
    "[KBO 팀 순위 사이트](https://www.koreabaseball.com/teamrank/teamrank.aspx)에서 2010년부터 2018년 최종순위까지를 데이터프레임화해보세요"
   ]
  },
  {
   "cell_type": "markdown",
   "metadata": {},
   "source": [
    "# 과제4\n",
    "[아프리카 TV](http://afreecatv.com/)에서 실시간 순위 1등~500등까지를 데이터프레임화 해보세요!  \n",
    "https://m.blog.naver.com/kiddwannabe/221310063239 는 필요하실거라 올려봅니당."
   ]
  },
  {
   "cell_type": "markdown",
   "metadata": {},
   "source": [
    "# 과제 5\n",
    "[보아즈 카페](https://cafe.naver.com/boazbigdata)에서 자료를 활용해보세요!  \n",
    "[보아즈 모바일 카페](https://m.cafe.naver.com/boazbigdata)에서 자료를 활용해보세요!\n",
    "ps. 코드소개도 할 것이기 때문에 변수명에 신경써주세요!  \n",
    "날짜, 기수, 조회수, 요일, 게시판 등이 있겠죠!"
   ]
  },
  {
   "cell_type": "markdown",
   "metadata": {},
   "source": [
    "# 과제 6\n",
    "[KBO 팀 순위 사이트](https://www.koreabaseball.com/teamrank/teamrank.aspx)에서 자료를 활용해보세요!  "
   ]
  }
 ],
 "metadata": {
  "kernelspec": {
   "display_name": "Python 3",
   "language": "python",
   "name": "python3"
  },
  "language_info": {
   "codemirror_mode": {
    "name": "ipython",
    "version": 3
   },
   "file_extension": ".py",
   "mimetype": "text/x-python",
   "name": "python",
   "nbconvert_exporter": "python",
   "pygments_lexer": "ipython3",
   "version": "3.7.0"
  }
 },
 "nbformat": 4,
 "nbformat_minor": 2
}
