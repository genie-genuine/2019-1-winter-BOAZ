{
 "cells": [
  {
   "cell_type": "code",
   "execution_count": 30,
   "metadata": {},
   "outputs": [],
   "source": [
    "# 1. module importing\n",
    "# !pip install selenium\n",
    "from selenium import webdriver\n",
    "from bs4 import BeautifulSoup\n",
    "import time\n",
    "import pandas as pd\n",
    "import numpy as np\n",
    "import requests"
   ]
  },
  {
   "cell_type": "markdown",
   "metadata": {},
   "source": [
    "# NATE의 실시간 검색어 추출"
   ]
  },
  {
   "cell_type": "markdown",
   "metadata": {},
   "source": [
    "## 1. BS4"
   ]
  },
  {
   "cell_type": "code",
   "execution_count": 27,
   "metadata": {},
   "outputs": [
    {
     "ename": "ConnectionError",
     "evalue": "HTTPSConnectionPool(host='www.nate.com', port=443): Max retries exceeded with url: / (Caused by NewConnectionError('<urllib3.connection.VerifiedHTTPSConnection object at 0x000000A882586AC8>: Failed to establish a new connection: [Errno 11001] getaddrinfo failed'))",
     "output_type": "error",
     "traceback": [
      "\u001b[1;31m---------------------------------------------------------------------------\u001b[0m",
      "\u001b[1;31mgaierror\u001b[0m                                  Traceback (most recent call last)",
      "\u001b[1;32m~\\Anaconda3\\lib\\site-packages\\urllib3\\connection.py\u001b[0m in \u001b[0;36m_new_conn\u001b[1;34m(self)\u001b[0m\n\u001b[0;32m    158\u001b[0m             conn = connection.create_connection(\n\u001b[1;32m--> 159\u001b[1;33m                 (self._dns_host, self.port), self.timeout, **extra_kw)\n\u001b[0m\u001b[0;32m    160\u001b[0m \u001b[1;33m\u001b[0m\u001b[0m\n",
      "\u001b[1;32m~\\Anaconda3\\lib\\site-packages\\urllib3\\util\\connection.py\u001b[0m in \u001b[0;36mcreate_connection\u001b[1;34m(address, timeout, source_address, socket_options)\u001b[0m\n\u001b[0;32m     56\u001b[0m \u001b[1;33m\u001b[0m\u001b[0m\n\u001b[1;32m---> 57\u001b[1;33m     \u001b[1;32mfor\u001b[0m \u001b[0mres\u001b[0m \u001b[1;32min\u001b[0m \u001b[0msocket\u001b[0m\u001b[1;33m.\u001b[0m\u001b[0mgetaddrinfo\u001b[0m\u001b[1;33m(\u001b[0m\u001b[0mhost\u001b[0m\u001b[1;33m,\u001b[0m \u001b[0mport\u001b[0m\u001b[1;33m,\u001b[0m \u001b[0mfamily\u001b[0m\u001b[1;33m,\u001b[0m \u001b[0msocket\u001b[0m\u001b[1;33m.\u001b[0m\u001b[0mSOCK_STREAM\u001b[0m\u001b[1;33m)\u001b[0m\u001b[1;33m:\u001b[0m\u001b[1;33m\u001b[0m\u001b[1;33m\u001b[0m\u001b[0m\n\u001b[0m\u001b[0;32m     58\u001b[0m         \u001b[0maf\u001b[0m\u001b[1;33m,\u001b[0m \u001b[0msocktype\u001b[0m\u001b[1;33m,\u001b[0m \u001b[0mproto\u001b[0m\u001b[1;33m,\u001b[0m \u001b[0mcanonname\u001b[0m\u001b[1;33m,\u001b[0m \u001b[0msa\u001b[0m \u001b[1;33m=\u001b[0m \u001b[0mres\u001b[0m\u001b[1;33m\u001b[0m\u001b[1;33m\u001b[0m\u001b[0m\n",
      "\u001b[1;32m~\\Anaconda3\\lib\\socket.py\u001b[0m in \u001b[0;36mgetaddrinfo\u001b[1;34m(host, port, family, type, proto, flags)\u001b[0m\n\u001b[0;32m    747\u001b[0m     \u001b[0maddrlist\u001b[0m \u001b[1;33m=\u001b[0m \u001b[1;33m[\u001b[0m\u001b[1;33m]\u001b[0m\u001b[1;33m\u001b[0m\u001b[1;33m\u001b[0m\u001b[0m\n\u001b[1;32m--> 748\u001b[1;33m     \u001b[1;32mfor\u001b[0m \u001b[0mres\u001b[0m \u001b[1;32min\u001b[0m \u001b[0m_socket\u001b[0m\u001b[1;33m.\u001b[0m\u001b[0mgetaddrinfo\u001b[0m\u001b[1;33m(\u001b[0m\u001b[0mhost\u001b[0m\u001b[1;33m,\u001b[0m \u001b[0mport\u001b[0m\u001b[1;33m,\u001b[0m \u001b[0mfamily\u001b[0m\u001b[1;33m,\u001b[0m \u001b[0mtype\u001b[0m\u001b[1;33m,\u001b[0m \u001b[0mproto\u001b[0m\u001b[1;33m,\u001b[0m \u001b[0mflags\u001b[0m\u001b[1;33m)\u001b[0m\u001b[1;33m:\u001b[0m\u001b[1;33m\u001b[0m\u001b[1;33m\u001b[0m\u001b[0m\n\u001b[0m\u001b[0;32m    749\u001b[0m         \u001b[0maf\u001b[0m\u001b[1;33m,\u001b[0m \u001b[0msocktype\u001b[0m\u001b[1;33m,\u001b[0m \u001b[0mproto\u001b[0m\u001b[1;33m,\u001b[0m \u001b[0mcanonname\u001b[0m\u001b[1;33m,\u001b[0m \u001b[0msa\u001b[0m \u001b[1;33m=\u001b[0m \u001b[0mres\u001b[0m\u001b[1;33m\u001b[0m\u001b[1;33m\u001b[0m\u001b[0m\n",
      "\u001b[1;31mgaierror\u001b[0m: [Errno 11001] getaddrinfo failed",
      "\nDuring handling of the above exception, another exception occurred:\n",
      "\u001b[1;31mNewConnectionError\u001b[0m                        Traceback (most recent call last)",
      "\u001b[1;32m~\\Anaconda3\\lib\\site-packages\\urllib3\\connectionpool.py\u001b[0m in \u001b[0;36murlopen\u001b[1;34m(self, method, url, body, headers, retries, redirect, assert_same_host, timeout, pool_timeout, release_conn, chunked, body_pos, **response_kw)\u001b[0m\n\u001b[0;32m    599\u001b[0m                                                   \u001b[0mbody\u001b[0m\u001b[1;33m=\u001b[0m\u001b[0mbody\u001b[0m\u001b[1;33m,\u001b[0m \u001b[0mheaders\u001b[0m\u001b[1;33m=\u001b[0m\u001b[0mheaders\u001b[0m\u001b[1;33m,\u001b[0m\u001b[1;33m\u001b[0m\u001b[1;33m\u001b[0m\u001b[0m\n\u001b[1;32m--> 600\u001b[1;33m                                                   chunked=chunked)\n\u001b[0m\u001b[0;32m    601\u001b[0m \u001b[1;33m\u001b[0m\u001b[0m\n",
      "\u001b[1;32m~\\Anaconda3\\lib\\site-packages\\urllib3\\connectionpool.py\u001b[0m in \u001b[0;36m_make_request\u001b[1;34m(self, conn, method, url, timeout, chunked, **httplib_request_kw)\u001b[0m\n\u001b[0;32m    342\u001b[0m         \u001b[1;32mtry\u001b[0m\u001b[1;33m:\u001b[0m\u001b[1;33m\u001b[0m\u001b[1;33m\u001b[0m\u001b[0m\n\u001b[1;32m--> 343\u001b[1;33m             \u001b[0mself\u001b[0m\u001b[1;33m.\u001b[0m\u001b[0m_validate_conn\u001b[0m\u001b[1;33m(\u001b[0m\u001b[0mconn\u001b[0m\u001b[1;33m)\u001b[0m\u001b[1;33m\u001b[0m\u001b[1;33m\u001b[0m\u001b[0m\n\u001b[0m\u001b[0;32m    344\u001b[0m         \u001b[1;32mexcept\u001b[0m \u001b[1;33m(\u001b[0m\u001b[0mSocketTimeout\u001b[0m\u001b[1;33m,\u001b[0m \u001b[0mBaseSSLError\u001b[0m\u001b[1;33m)\u001b[0m \u001b[1;32mas\u001b[0m \u001b[0me\u001b[0m\u001b[1;33m:\u001b[0m\u001b[1;33m\u001b[0m\u001b[1;33m\u001b[0m\u001b[0m\n",
      "\u001b[1;32m~\\Anaconda3\\lib\\site-packages\\urllib3\\connectionpool.py\u001b[0m in \u001b[0;36m_validate_conn\u001b[1;34m(self, conn)\u001b[0m\n\u001b[0;32m    838\u001b[0m         \u001b[1;32mif\u001b[0m \u001b[1;32mnot\u001b[0m \u001b[0mgetattr\u001b[0m\u001b[1;33m(\u001b[0m\u001b[0mconn\u001b[0m\u001b[1;33m,\u001b[0m \u001b[1;34m'sock'\u001b[0m\u001b[1;33m,\u001b[0m \u001b[1;32mNone\u001b[0m\u001b[1;33m)\u001b[0m\u001b[1;33m:\u001b[0m  \u001b[1;31m# AppEngine might not have  `.sock`\u001b[0m\u001b[1;33m\u001b[0m\u001b[1;33m\u001b[0m\u001b[0m\n\u001b[1;32m--> 839\u001b[1;33m             \u001b[0mconn\u001b[0m\u001b[1;33m.\u001b[0m\u001b[0mconnect\u001b[0m\u001b[1;33m(\u001b[0m\u001b[1;33m)\u001b[0m\u001b[1;33m\u001b[0m\u001b[1;33m\u001b[0m\u001b[0m\n\u001b[0m\u001b[0;32m    840\u001b[0m \u001b[1;33m\u001b[0m\u001b[0m\n",
      "\u001b[1;32m~\\Anaconda3\\lib\\site-packages\\urllib3\\connection.py\u001b[0m in \u001b[0;36mconnect\u001b[1;34m(self)\u001b[0m\n\u001b[0;32m    300\u001b[0m         \u001b[1;31m# Add certificate verification\u001b[0m\u001b[1;33m\u001b[0m\u001b[1;33m\u001b[0m\u001b[1;33m\u001b[0m\u001b[0m\n\u001b[1;32m--> 301\u001b[1;33m         \u001b[0mconn\u001b[0m \u001b[1;33m=\u001b[0m \u001b[0mself\u001b[0m\u001b[1;33m.\u001b[0m\u001b[0m_new_conn\u001b[0m\u001b[1;33m(\u001b[0m\u001b[1;33m)\u001b[0m\u001b[1;33m\u001b[0m\u001b[1;33m\u001b[0m\u001b[0m\n\u001b[0m\u001b[0;32m    302\u001b[0m         \u001b[0mhostname\u001b[0m \u001b[1;33m=\u001b[0m \u001b[0mself\u001b[0m\u001b[1;33m.\u001b[0m\u001b[0mhost\u001b[0m\u001b[1;33m\u001b[0m\u001b[1;33m\u001b[0m\u001b[0m\n",
      "\u001b[1;32m~\\Anaconda3\\lib\\site-packages\\urllib3\\connection.py\u001b[0m in \u001b[0;36m_new_conn\u001b[1;34m(self)\u001b[0m\n\u001b[0;32m    167\u001b[0m             raise NewConnectionError(\n\u001b[1;32m--> 168\u001b[1;33m                 self, \"Failed to establish a new connection: %s\" % e)\n\u001b[0m\u001b[0;32m    169\u001b[0m \u001b[1;33m\u001b[0m\u001b[0m\n",
      "\u001b[1;31mNewConnectionError\u001b[0m: <urllib3.connection.VerifiedHTTPSConnection object at 0x000000A882586AC8>: Failed to establish a new connection: [Errno 11001] getaddrinfo failed",
      "\nDuring handling of the above exception, another exception occurred:\n",
      "\u001b[1;31mMaxRetryError\u001b[0m                             Traceback (most recent call last)",
      "\u001b[1;32m~\\Anaconda3\\lib\\site-packages\\requests\\adapters.py\u001b[0m in \u001b[0;36msend\u001b[1;34m(self, request, stream, timeout, verify, cert, proxies)\u001b[0m\n\u001b[0;32m    448\u001b[0m                     \u001b[0mretries\u001b[0m\u001b[1;33m=\u001b[0m\u001b[0mself\u001b[0m\u001b[1;33m.\u001b[0m\u001b[0mmax_retries\u001b[0m\u001b[1;33m,\u001b[0m\u001b[1;33m\u001b[0m\u001b[1;33m\u001b[0m\u001b[0m\n\u001b[1;32m--> 449\u001b[1;33m                     \u001b[0mtimeout\u001b[0m\u001b[1;33m=\u001b[0m\u001b[0mtimeout\u001b[0m\u001b[1;33m\u001b[0m\u001b[1;33m\u001b[0m\u001b[0m\n\u001b[0m\u001b[0;32m    450\u001b[0m                 )\n",
      "\u001b[1;32m~\\Anaconda3\\lib\\site-packages\\urllib3\\connectionpool.py\u001b[0m in \u001b[0;36murlopen\u001b[1;34m(self, method, url, body, headers, retries, redirect, assert_same_host, timeout, pool_timeout, release_conn, chunked, body_pos, **response_kw)\u001b[0m\n\u001b[0;32m    637\u001b[0m             retries = retries.increment(method, url, error=e, _pool=self,\n\u001b[1;32m--> 638\u001b[1;33m                                         _stacktrace=sys.exc_info()[2])\n\u001b[0m\u001b[0;32m    639\u001b[0m             \u001b[0mretries\u001b[0m\u001b[1;33m.\u001b[0m\u001b[0msleep\u001b[0m\u001b[1;33m(\u001b[0m\u001b[1;33m)\u001b[0m\u001b[1;33m\u001b[0m\u001b[1;33m\u001b[0m\u001b[0m\n",
      "\u001b[1;32m~\\Anaconda3\\lib\\site-packages\\urllib3\\util\\retry.py\u001b[0m in \u001b[0;36mincrement\u001b[1;34m(self, method, url, response, error, _pool, _stacktrace)\u001b[0m\n\u001b[0;32m    397\u001b[0m         \u001b[1;32mif\u001b[0m \u001b[0mnew_retry\u001b[0m\u001b[1;33m.\u001b[0m\u001b[0mis_exhausted\u001b[0m\u001b[1;33m(\u001b[0m\u001b[1;33m)\u001b[0m\u001b[1;33m:\u001b[0m\u001b[1;33m\u001b[0m\u001b[1;33m\u001b[0m\u001b[0m\n\u001b[1;32m--> 398\u001b[1;33m             \u001b[1;32mraise\u001b[0m \u001b[0mMaxRetryError\u001b[0m\u001b[1;33m(\u001b[0m\u001b[0m_pool\u001b[0m\u001b[1;33m,\u001b[0m \u001b[0murl\u001b[0m\u001b[1;33m,\u001b[0m \u001b[0merror\u001b[0m \u001b[1;32mor\u001b[0m \u001b[0mResponseError\u001b[0m\u001b[1;33m(\u001b[0m\u001b[0mcause\u001b[0m\u001b[1;33m)\u001b[0m\u001b[1;33m)\u001b[0m\u001b[1;33m\u001b[0m\u001b[1;33m\u001b[0m\u001b[0m\n\u001b[0m\u001b[0;32m    399\u001b[0m \u001b[1;33m\u001b[0m\u001b[0m\n",
      "\u001b[1;31mMaxRetryError\u001b[0m: HTTPSConnectionPool(host='www.nate.com', port=443): Max retries exceeded with url: / (Caused by NewConnectionError('<urllib3.connection.VerifiedHTTPSConnection object at 0x000000A882586AC8>: Failed to establish a new connection: [Errno 11001] getaddrinfo failed'))",
      "\nDuring handling of the above exception, another exception occurred:\n",
      "\u001b[1;31mConnectionError\u001b[0m                           Traceback (most recent call last)",
      "\u001b[1;32m<ipython-input-27-2ef657e53c2f>\u001b[0m in \u001b[0;36m<module>\u001b[1;34m\u001b[0m\n\u001b[0;32m      1\u001b[0m \u001b[0murl\u001b[0m \u001b[1;33m=\u001b[0m \u001b[1;34m\"https://www.nate.com\"\u001b[0m \u001b[1;31m# 데이터를 얻고 싶은 주소\u001b[0m\u001b[1;33m\u001b[0m\u001b[1;33m\u001b[0m\u001b[0m\n\u001b[1;32m----> 2\u001b[1;33m \u001b[0mresponse\u001b[0m \u001b[1;33m=\u001b[0m \u001b[0mrequests\u001b[0m\u001b[1;33m.\u001b[0m\u001b[0mget\u001b[0m\u001b[1;33m(\u001b[0m\u001b[0murl\u001b[0m\u001b[1;33m)\u001b[0m \u001b[1;31m# 특정 주소에 GET 요청\u001b[0m\u001b[1;33m\u001b[0m\u001b[1;33m\u001b[0m\u001b[0m\n\u001b[0m\u001b[0;32m      3\u001b[0m \u001b[0mhtml\u001b[0m \u001b[1;33m=\u001b[0m \u001b[0mresponse\u001b[0m\u001b[1;33m.\u001b[0m\u001b[0mtext\u001b[0m \u001b[1;31m# HTML소스 가져오기\u001b[0m\u001b[1;33m\u001b[0m\u001b[1;33m\u001b[0m\u001b[0m\n\u001b[0;32m      4\u001b[0m \u001b[1;33m\u001b[0m\u001b[0m\n\u001b[0;32m      5\u001b[0m \u001b[0msoup\u001b[0m \u001b[1;33m=\u001b[0m \u001b[0mBeautifulSoup\u001b[0m\u001b[1;33m(\u001b[0m\u001b[0mhtml\u001b[0m\u001b[1;33m,\u001b[0m \u001b[1;34m\"html.parser\"\u001b[0m\u001b[1;33m)\u001b[0m\u001b[1;33m\u001b[0m\u001b[1;33m\u001b[0m\u001b[0m\n",
      "\u001b[1;32m~\\Anaconda3\\lib\\site-packages\\requests\\api.py\u001b[0m in \u001b[0;36mget\u001b[1;34m(url, params, **kwargs)\u001b[0m\n\u001b[0;32m     73\u001b[0m \u001b[1;33m\u001b[0m\u001b[0m\n\u001b[0;32m     74\u001b[0m     \u001b[0mkwargs\u001b[0m\u001b[1;33m.\u001b[0m\u001b[0msetdefault\u001b[0m\u001b[1;33m(\u001b[0m\u001b[1;34m'allow_redirects'\u001b[0m\u001b[1;33m,\u001b[0m \u001b[1;32mTrue\u001b[0m\u001b[1;33m)\u001b[0m\u001b[1;33m\u001b[0m\u001b[1;33m\u001b[0m\u001b[0m\n\u001b[1;32m---> 75\u001b[1;33m     \u001b[1;32mreturn\u001b[0m \u001b[0mrequest\u001b[0m\u001b[1;33m(\u001b[0m\u001b[1;34m'get'\u001b[0m\u001b[1;33m,\u001b[0m \u001b[0murl\u001b[0m\u001b[1;33m,\u001b[0m \u001b[0mparams\u001b[0m\u001b[1;33m=\u001b[0m\u001b[0mparams\u001b[0m\u001b[1;33m,\u001b[0m \u001b[1;33m**\u001b[0m\u001b[0mkwargs\u001b[0m\u001b[1;33m)\u001b[0m\u001b[1;33m\u001b[0m\u001b[1;33m\u001b[0m\u001b[0m\n\u001b[0m\u001b[0;32m     76\u001b[0m \u001b[1;33m\u001b[0m\u001b[0m\n\u001b[0;32m     77\u001b[0m \u001b[1;33m\u001b[0m\u001b[0m\n",
      "\u001b[1;32m~\\Anaconda3\\lib\\site-packages\\requests\\api.py\u001b[0m in \u001b[0;36mrequest\u001b[1;34m(method, url, **kwargs)\u001b[0m\n\u001b[0;32m     58\u001b[0m     \u001b[1;31m# cases, and look like a memory leak in others.\u001b[0m\u001b[1;33m\u001b[0m\u001b[1;33m\u001b[0m\u001b[1;33m\u001b[0m\u001b[0m\n\u001b[0;32m     59\u001b[0m     \u001b[1;32mwith\u001b[0m \u001b[0msessions\u001b[0m\u001b[1;33m.\u001b[0m\u001b[0mSession\u001b[0m\u001b[1;33m(\u001b[0m\u001b[1;33m)\u001b[0m \u001b[1;32mas\u001b[0m \u001b[0msession\u001b[0m\u001b[1;33m:\u001b[0m\u001b[1;33m\u001b[0m\u001b[1;33m\u001b[0m\u001b[0m\n\u001b[1;32m---> 60\u001b[1;33m         \u001b[1;32mreturn\u001b[0m \u001b[0msession\u001b[0m\u001b[1;33m.\u001b[0m\u001b[0mrequest\u001b[0m\u001b[1;33m(\u001b[0m\u001b[0mmethod\u001b[0m\u001b[1;33m=\u001b[0m\u001b[0mmethod\u001b[0m\u001b[1;33m,\u001b[0m \u001b[0murl\u001b[0m\u001b[1;33m=\u001b[0m\u001b[0murl\u001b[0m\u001b[1;33m,\u001b[0m \u001b[1;33m**\u001b[0m\u001b[0mkwargs\u001b[0m\u001b[1;33m)\u001b[0m\u001b[1;33m\u001b[0m\u001b[1;33m\u001b[0m\u001b[0m\n\u001b[0m\u001b[0;32m     61\u001b[0m \u001b[1;33m\u001b[0m\u001b[0m\n\u001b[0;32m     62\u001b[0m \u001b[1;33m\u001b[0m\u001b[0m\n",
      "\u001b[1;32m~\\Anaconda3\\lib\\site-packages\\requests\\sessions.py\u001b[0m in \u001b[0;36mrequest\u001b[1;34m(self, method, url, params, data, headers, cookies, files, auth, timeout, allow_redirects, proxies, hooks, stream, verify, cert, json)\u001b[0m\n\u001b[0;32m    531\u001b[0m         }\n\u001b[0;32m    532\u001b[0m         \u001b[0msend_kwargs\u001b[0m\u001b[1;33m.\u001b[0m\u001b[0mupdate\u001b[0m\u001b[1;33m(\u001b[0m\u001b[0msettings\u001b[0m\u001b[1;33m)\u001b[0m\u001b[1;33m\u001b[0m\u001b[1;33m\u001b[0m\u001b[0m\n\u001b[1;32m--> 533\u001b[1;33m         \u001b[0mresp\u001b[0m \u001b[1;33m=\u001b[0m \u001b[0mself\u001b[0m\u001b[1;33m.\u001b[0m\u001b[0msend\u001b[0m\u001b[1;33m(\u001b[0m\u001b[0mprep\u001b[0m\u001b[1;33m,\u001b[0m \u001b[1;33m**\u001b[0m\u001b[0msend_kwargs\u001b[0m\u001b[1;33m)\u001b[0m\u001b[1;33m\u001b[0m\u001b[1;33m\u001b[0m\u001b[0m\n\u001b[0m\u001b[0;32m    534\u001b[0m \u001b[1;33m\u001b[0m\u001b[0m\n\u001b[0;32m    535\u001b[0m         \u001b[1;32mreturn\u001b[0m \u001b[0mresp\u001b[0m\u001b[1;33m\u001b[0m\u001b[1;33m\u001b[0m\u001b[0m\n",
      "\u001b[1;32m~\\Anaconda3\\lib\\site-packages\\requests\\sessions.py\u001b[0m in \u001b[0;36msend\u001b[1;34m(self, request, **kwargs)\u001b[0m\n\u001b[0;32m    644\u001b[0m \u001b[1;33m\u001b[0m\u001b[0m\n\u001b[0;32m    645\u001b[0m         \u001b[1;31m# Send the request\u001b[0m\u001b[1;33m\u001b[0m\u001b[1;33m\u001b[0m\u001b[1;33m\u001b[0m\u001b[0m\n\u001b[1;32m--> 646\u001b[1;33m         \u001b[0mr\u001b[0m \u001b[1;33m=\u001b[0m \u001b[0madapter\u001b[0m\u001b[1;33m.\u001b[0m\u001b[0msend\u001b[0m\u001b[1;33m(\u001b[0m\u001b[0mrequest\u001b[0m\u001b[1;33m,\u001b[0m \u001b[1;33m**\u001b[0m\u001b[0mkwargs\u001b[0m\u001b[1;33m)\u001b[0m\u001b[1;33m\u001b[0m\u001b[1;33m\u001b[0m\u001b[0m\n\u001b[0m\u001b[0;32m    647\u001b[0m \u001b[1;33m\u001b[0m\u001b[0m\n\u001b[0;32m    648\u001b[0m         \u001b[1;31m# Total elapsed time of the request (approximately)\u001b[0m\u001b[1;33m\u001b[0m\u001b[1;33m\u001b[0m\u001b[1;33m\u001b[0m\u001b[0m\n",
      "\u001b[1;32m~\\Anaconda3\\lib\\site-packages\\requests\\adapters.py\u001b[0m in \u001b[0;36msend\u001b[1;34m(self, request, stream, timeout, verify, cert, proxies)\u001b[0m\n\u001b[0;32m    514\u001b[0m                 \u001b[1;32mraise\u001b[0m \u001b[0mSSLError\u001b[0m\u001b[1;33m(\u001b[0m\u001b[0me\u001b[0m\u001b[1;33m,\u001b[0m \u001b[0mrequest\u001b[0m\u001b[1;33m=\u001b[0m\u001b[0mrequest\u001b[0m\u001b[1;33m)\u001b[0m\u001b[1;33m\u001b[0m\u001b[1;33m\u001b[0m\u001b[0m\n\u001b[0;32m    515\u001b[0m \u001b[1;33m\u001b[0m\u001b[0m\n\u001b[1;32m--> 516\u001b[1;33m             \u001b[1;32mraise\u001b[0m \u001b[0mConnectionError\u001b[0m\u001b[1;33m(\u001b[0m\u001b[0me\u001b[0m\u001b[1;33m,\u001b[0m \u001b[0mrequest\u001b[0m\u001b[1;33m=\u001b[0m\u001b[0mrequest\u001b[0m\u001b[1;33m)\u001b[0m\u001b[1;33m\u001b[0m\u001b[1;33m\u001b[0m\u001b[0m\n\u001b[0m\u001b[0;32m    517\u001b[0m \u001b[1;33m\u001b[0m\u001b[0m\n\u001b[0;32m    518\u001b[0m         \u001b[1;32mexcept\u001b[0m \u001b[0mClosedPoolError\u001b[0m \u001b[1;32mas\u001b[0m \u001b[0me\u001b[0m\u001b[1;33m:\u001b[0m\u001b[1;33m\u001b[0m\u001b[1;33m\u001b[0m\u001b[0m\n",
      "\u001b[1;31mConnectionError\u001b[0m: HTTPSConnectionPool(host='www.nate.com', port=443): Max retries exceeded with url: / (Caused by NewConnectionError('<urllib3.connection.VerifiedHTTPSConnection object at 0x000000A882586AC8>: Failed to establish a new connection: [Errno 11001] getaddrinfo failed'))"
     ]
    }
   ],
   "source": [
    "url = \"https://www.nate.com\" # 데이터를 얻고 싶은 주소\n",
    "response = requests.get(url) # 특정 주소에 GET 요청\n",
    "html = response.text # HTML소스 가져오기\n",
    "\n",
    "soup = BeautifulSoup(html, \"html.parser\")\n",
    "hyunseok = soup.find(\"div\", {'class' : 'area_rtkwd type_alone'}) \n",
    "#이게 뭔지 Ctrl + F로 찾아보세요!\n",
    "hyunseok\n",
    "\n",
    "# BS4로 끌어올 수 없는 스크립트가 있다\n",
    "# javascript\n",
    "# 우회적인 방법 Selenium 사용"
   ]
  },
  {
   "cell_type": "markdown",
   "metadata": {},
   "source": [
    "## 2. Selenium\n",
    " * JavaScript를 이용해 비동기적으로 혹은 뒤늦게 불러와지는 컨텐츠들을 가져올 수 있다.\n",
    " * BS4에 비해 비용이 많이 든다."
   ]
  },
  {
   "cell_type": "code",
   "execution_count": 31,
   "metadata": {},
   "outputs": [],
   "source": [
    "#2. driver경로설정 및 url주소 설정\n",
    "driverpath = 'C:/Users/USER/Downloads/chromedriver_win32/chromedriver.exe'\n",
    "dr = webdriver.Chrome(driverpath)#여기까지는 복붙하시면 됩니다.\n",
    "url = \"https://www.nate.com\"\n",
    "dr.get(url) #새로운 창에 nate가 켜지는 것을 볼 수 있다."
   ]
  },
  {
   "cell_type": "code",
   "execution_count": 32,
   "metadata": {},
   "outputs": [],
   "source": [
    "drt = dr.page_source\n",
    "soup = BeautifulSoup(drt,'html.parser')"
   ]
  },
  {
   "cell_type": "code",
   "execution_count": 33,
   "metadata": {},
   "outputs": [
    {
     "data": {
      "text/plain": [
       "<div class=\"area_rtkwd type_alone\" id=\"keywordRank\"><h3 class=\"nHide\">실시간 검색어</h3><div class=\"kwd_list\"><ol><li class=\"rank01\" style=\"position: absolute; top: 198px;\"><p><span class=\"nHide\">1위</span><a href=\"https://search.daum.net/nate?w=tot&amp;q=%EC%95%88%EC%84%B1%20%EA%B5%AC%EC%A0%9C%EC%97%AD\" onclick=\"$COMMON.STAT('rank',0);\" title=\"안성 구제역\">안성 구제역</a> <span class=\"icon up\"><em>41</em>상승</span></p></li><li class=\"rank02\" style=\"position: absolute; top: 0px;\"><p><span class=\"nHide\">2위</span><a href=\"https://search.daum.net/nate?w=tot&amp;q=%EC%A0%9C%EC%B2%9C%20%EC%96%BC%EC%9D%8C%EC%B6%95%EC%A0%9C\" onclick=\"$COMMON.STAT('rank',1);\" title=\"제천 얼음축제\">제천 얼음축제</a> <span class=\"icon new\"><em class=\"nHide\">신규진입</em></span></p></li><li class=\"rank03\" style=\"position: absolute; top: 22px;\"><p><span class=\"nHide\">3위</span><a href=\"https://search.daum.net/nate?w=tot&amp;q=%EC%9D%B4%EB%A7%A4%EB%A6%AC\" onclick=\"$COMMON.STAT('rank',2);\" title=\"이매리\">이매리</a> <span class=\"icon up\"><em>113</em>상승</span></p></li><li class=\"rank04\" style=\"position: absolute; top: 44px;\"><p><span class=\"nHide\">4위</span><a href=\"https://search.daum.net/nate?w=tot&amp;q=%EA%B5%AC%EB%A6%AC%20%EC%82%B0%EB%B6%88\" onclick=\"$COMMON.STAT('rank',3);\" title=\"구리 산불\">구리 산불</a> <span class=\"icon up\"><em>91</em>상승</span></p></li><li class=\"rank05\" style=\"position: absolute; top: 66px;\"><p><span class=\"nHide\">5위</span><a href=\"https://search.daum.net/nate?w=tot&amp;q=%ED%95%9C%EC%A0%84%EA%B3%B5%EB%8C%80\" onclick=\"$COMMON.STAT('rank',4);\" title=\"한전공대\">한전공대</a> <span class=\"icon up\"><em>62</em>상승</span></p></li><li class=\"rank06\" style=\"position: absolute; top: 88px;\"><p><span class=\"nHide\">6위</span><a href=\"https://search.daum.net/nate?w=tot&amp;q=%EC%9D%B4%EB%9E%80%20%EC%9D%BC%EB%B3%B8\" onclick=\"$COMMON.STAT('rank',5);\" title=\"이란 일본\">이란 일본</a> <span class=\"icon up\"><em>33</em>상승</span></p></li><li class=\"rank07\" style=\"position: absolute; top: 110px;\"><p><span class=\"nHide\">7위</span><a href=\"https://search.daum.net/nate?w=tot&amp;q=%EA%B9%80%ED%98%84%EC%B2%A0\" onclick=\"$COMMON.STAT('rank',6);\" title=\"김현철\">김현철</a> <span class=\"icon up\"><em>42</em>상승</span></p></li><li class=\"rank08\" style=\"position: absolute; top: 132px;\"><p><span class=\"nHide\">8위</span><a href=\"https://search.daum.net/nate?w=tot&amp;q=%ED%95%98%EC%84%B1%EC%9A%B4\" onclick=\"$COMMON.STAT('rank',7);\" title=\"하성운\">하성운</a> <span class=\"icon up\"><em>38</em>상승</span></p></li><li class=\"rank09\" style=\"position: absolute; top: 154px;\"><p><span class=\"nHide\">9위</span><a href=\"https://search.daum.net/nate?w=tot&amp;q=%EC%82%B0%EB%93%9C%EB%9D%BC%20%EC%98%A4\" onclick=\"$COMMON.STAT('rank',8);\" title=\"산드라 오\">산드라 오</a> <span class=\"icon up\"><em>36</em>상승</span></p></li><li class=\"rank10\" style=\"position: absolute; top: 176px;\"><p><span class=\"nHide\">10위</span><a href=\"https://search.daum.net/nate?w=tot&amp;q=%ED%83%9C%EB%B0%B1%20%EA%B3%B0%EC%B7%A8%EC%B0%90%EB%B9%B5\" onclick=\"$COMMON.STAT('rank',9);\" title=\"태백 곰취찐빵\">태백 곰취찐빵</a> <span class=\"icon new\"><em class=\"nHide\">신규진입</em></span></p></li></ol></div><h3 class=\"type_biz\">Biz. 인기 검색어</h3><div class=\"kwd_list type_biz\" id=\"bizKwdList\"><ol class=\"nHide\"><li class=\"rank01\"><p><span class=\"nHide\">1위</span><a href=\"//search.daum.net/nate?w=tot&amp;DA=NBZ&amp;q=%EC%86%90%ED%95%B4%EB%B3%B4%ED%97%98\" onclick=\"$COMMON.STAT('biz',0);\">손해보험 추천리스트</a></p></li><li class=\"rank02\"><p><span class=\"nHide\">2위</span><a href=\"//search.daum.net/nate?w=tot&amp;DA=NBZ&amp;q=%EC%84%B1%EC%9E%A5%ED%81%B4%EB%A6%AC%EB%8B%89\" onclick=\"$COMMON.STAT('biz',1);\">성장클리닉 가격정보</a></p></li><li class=\"rank03\"><p><span class=\"nHide\">3위</span><a href=\"//search.daum.net/nate?w=tot&amp;DA=NBZ&amp;q=%EB%85%B8%EC%95%88%EC%88%98%EC%88%A0\" onclick=\"$COMMON.STAT('biz',2);\">노안수술 잘하는곳</a><span class=\"icon hot\"><em class=\"nHide\">HOT</em></span></p></li><li class=\"rank04\"><p><span class=\"nHide\">4위</span><a href=\"//search.daum.net/nate?w=tot&amp;DA=NBZ&amp;q=%EC%95%94%EB%B3%B4%ED%97%98\" onclick=\"$COMMON.STAT('biz',3);\">암보험 추천상품</a></p></li><li class=\"rank05\"><p><span class=\"nHide\">5위</span><a href=\"//search.daum.net/nate?w=tot&amp;DA=NBZ&amp;q=%EB%9D%BC%EC%84%B9\" onclick=\"$COMMON.STAT('biz',4);\">라섹수술 병원비교!</a></p></li><li class=\"rank06\"><p><span class=\"nHide\">6위</span><a href=\"//search.daum.net/nate?w=tot&amp;DA=NBZ&amp;q=%EC%B9%98%EA%B3%BC%EB%B3%B4%ED%97%98\" onclick=\"$COMMON.STAT('biz',5);\">TOP10 치과보험</a><span class=\"icon hot\"><em class=\"nHide\">HOT</em></span></p></li><li class=\"rank07\"><p><span class=\"nHide\">7위</span><a href=\"//search.daum.net/nate?w=tot&amp;DA=NBZ&amp;q=%EC%B9%98%EC%95%84%EB%B3%B4%ED%97%98\" onclick=\"$COMMON.STAT('biz',6);\">치아보험 비교사이트</a></p></li><li class=\"rank08\"><p><span class=\"nHide\">8위</span><a href=\"//search.daum.net/nate?w=tot&amp;DA=NBZ&amp;q=%EC%9E%84%ED%94%8C%EB%9E%80%ED%8A%B8%EB%B3%B4%ED%97%98\" onclick=\"$COMMON.STAT('biz',7);\">임플란트보험 체크!</a><span class=\"icon hot\"><em class=\"nHide\">HOT</em></span></p></li><li class=\"rank09\"><p><span class=\"nHide\">9위</span><a href=\"//search.daum.net/nate?w=tot&amp;DA=NBZ&amp;q=%EC%97%B0%EA%B8%88%EC%A0%80%EC%B6%95\" onclick=\"$COMMON.STAT('biz',8);\">연금저축 상품</a><span class=\"icon hot\"><em class=\"nHide\">HOT</em></span></p></li><li class=\"rank10\"><p><span class=\"nHide\">10위</span><a href=\"//search.daum.net/nate?w=tot&amp;DA=NBZ&amp;q=%EB%B0%B1%EB%82%B4%EC%9E%A5%EC%88%98%EC%88%A0\" onclick=\"$COMMON.STAT('biz',9);\">백내장 치료병원</a></p></li></ol></div></div>"
      ]
     },
     "execution_count": 33,
     "metadata": {},
     "output_type": "execute_result"
    }
   ],
   "source": [
    "\n",
    "jiin = soup.find(\"div\", {'class' : 'area_rtkwd type_alone'}) \n",
    "#이게 뭔지 Ctrl + F로 찾아보세요!\n",
    "jiin\n"
   ]
  },
  {
   "cell_type": "code",
   "execution_count": 34,
   "metadata": {},
   "outputs": [
    {
     "data": {
      "text/plain": [
       "['안성 구제역',\n",
       " '제천 얼음축제',\n",
       " '이매리',\n",
       " '구리 산불',\n",
       " '한전공대',\n",
       " '이란 일본',\n",
       " '김현철',\n",
       " '하성운',\n",
       " '산드라 오',\n",
       " '태백 곰취찐빵']"
      ]
     },
     "execution_count": 34,
     "metadata": {},
     "output_type": "execute_result"
    }
   ],
   "source": [
    "word = []\n",
    "for i in range(0,10):\n",
    "    jiin = soup.find(\"a\", {'onclick' : \"$COMMON.STAT('rank',{});\".format(i)}) # format문의 사용\n",
    "    word.append(jiin.text)\n",
    "word"
   ]
  },
  {
   "cell_type": "markdown",
   "metadata": {},
   "source": [
    "# format문"
   ]
  },
  {
   "cell_type": "code",
   "execution_count": 20,
   "metadata": {},
   "outputs": [
    {
     "name": "stdout",
     "output_type": "stream",
     "text": [
      "숫자 : 0\n",
      "숫자 : 1\n",
      "숫자 : 2\n",
      "숫자 : 3\n",
      "숫자 : 4\n",
      "숫자 : 5\n",
      "숫자 : 6\n",
      "숫자 : 7\n",
      "숫자 : 8\n",
      "숫자 : 9\n",
      "숫자 : 10\n",
      "숫자 : 11\n",
      "숫자 : 12\n",
      "숫자 : 13\n",
      "숫자 : 14\n",
      "숫자 : 15\n",
      "숫자 : 16\n",
      "숫자 : 17\n",
      "숫자 : 18\n",
      "숫자 : 19\n"
     ]
    }
   ],
   "source": [
    "for i in range(0,20) :\n",
    "    print('숫자 : {}'.format(i))"
   ]
  },
  {
   "cell_type": "code",
   "execution_count": 19,
   "metadata": {},
   "outputs": [],
   "source": [
    "# 코스피 200정보와 기업 : http://www.kodex.com/product.do?fundId=2ETF01&pageCode=020101&stkTicker=069500\n",
    "li = ['삼성전자','SK하이닉스','셀트리온','POSCO','현대차','NAVER','LG화학','KB금융','신한지주','SK텔레콤']"
   ]
  },
  {
   "cell_type": "code",
   "execution_count": 20,
   "metadata": {},
   "outputs": [
    {
     "data": {
      "text/plain": [
       "['https://search.naver.com/search.naver?where=nexearch&sm=tab_jum&query=삼성전자',\n",
       " 'https://search.naver.com/search.naver?where=nexearch&sm=tab_jum&query=SK하이닉스',\n",
       " 'https://search.naver.com/search.naver?where=nexearch&sm=tab_jum&query=셀트리온',\n",
       " 'https://search.naver.com/search.naver?where=nexearch&sm=tab_jum&query=POSCO',\n",
       " 'https://search.naver.com/search.naver?where=nexearch&sm=tab_jum&query=현대차',\n",
       " 'https://search.naver.com/search.naver?where=nexearch&sm=tab_jum&query=NAVER',\n",
       " 'https://search.naver.com/search.naver?where=nexearch&sm=tab_jum&query=LG화학',\n",
       " 'https://search.naver.com/search.naver?where=nexearch&sm=tab_jum&query=KB금융',\n",
       " 'https://search.naver.com/search.naver?where=nexearch&sm=tab_jum&query=신한지주',\n",
       " 'https://search.naver.com/search.naver?where=nexearch&sm=tab_jum&query=SK텔레콤']"
      ]
     },
     "execution_count": 20,
     "metadata": {},
     "output_type": "execute_result"
    }
   ],
   "source": [
    "company = []\n",
    "for i in li:\n",
    "    company.append('https://search.naver.com/search.naver?where=nexearch&sm=tab_jum&query={}'.format(i))\n",
    "    #네이버주소의 구조를 이해하면 포멧문을 왜 이렇게 활용하였는지 아실 수 있습니다.\n",
    "company"
   ]
  },
  {
   "cell_type": "code",
   "execution_count": null,
   "metadata": {},
   "outputs": [],
   "source": [
    "for i in range(0,9) :\n",
    "    url = company[i]\n",
    "    response = requests.get(url)\n",
    "    html = response.text\n",
    "    # 이 라인부터 원하는 크롤링작업을 한다면?"
   ]
  },
  {
   "cell_type": "markdown",
   "metadata": {},
   "source": [
    "# 팀 과제 & 실시간 크롤링 질문"
   ]
  },
  {
   "cell_type": "markdown",
   "metadata": {},
   "source": [
    "## - 다음주부터 팀 프로젝트를 할 예정입니다. 주제를 생각해오세요!\n",
    "## - 배워야 할 모듈, 툴을 정해보세요!\n",
    "\n",
    "추천 공부\n",
    "- 정규표현식(https://wikidocs.net/1669 https://regexr.com/)\n",
    "- 셀레니움 페이지 업다운(https://m.blog.naver.com/kiddwannabe/221310063239)\n",
    "- 윈도우, 리눅스 스케줄러\n",
    "- gcp 또는 aws\n",
    "\n",
    "추천 동영상\n",
    "- https://www.youtube.com/watch?v=7_IEdMv9eFE&t=10s"
   ]
  },
  {
   "cell_type": "markdown",
   "metadata": {},
   "source": [
    "## 팀프로젝트\n",
    "\n",
    "### 1. 크롤링을 통해 데이터를 구합니다.  \n",
    "(셀레니움을 가급적 사용하셨으면 좋겠습니다. 어드브에서 어떤 주제로 프로젝트를 할지 모르잖아요!)\n",
    "\n",
    "### 2. 구해온 데이터를 통해 테블로 or GGPLOT2로 시각화를 할 예정입니다.  \n",
    "(데이터프레임구조에 대해 잘 생각해보시구 어떤 데이터를 파싱할지, 어떤 대시보드를 만들지에 대해 잘 생각해보세요!)\n",
    "\n",
    "### 3. 모든 인원이 발표도 할 예정입니다. 코드 설명부터 시각화까지요!\n",
    "(특히 코드 설명은 주석(#)을 달아주세요. 그리고 주석은 누가봐도 이해할 수 있도록 달아주세요. 우리 모두 첫걸음이잖아요!)\n",
    "(발표를 할 예정이니, 한명 한명 모두 열심히 참여해 주세요!)\n",
    "\n",
    "### 4. 팀프로젝트 예시는 미니프로젝트 주제 예시, 크롤링 파일 예시 등을 참고해주세요!"
   ]
  },
  {
   "cell_type": "code",
   "execution_count": 35,
   "metadata": {},
   "outputs": [
    {
     "ename": "SyntaxError",
     "evalue": "invalid syntax (<ipython-input-35-da2ea3fb0207>, line 1)",
     "output_type": "error",
     "traceback": [
      "\u001b[1;36m  File \u001b[1;32m\"<ipython-input-35-da2ea3fb0207>\"\u001b[1;36m, line \u001b[1;32m1\u001b[0m\n\u001b[1;33m    http://localhost:8888/tree/0-source/5%20-%20Spyder\u001b[0m\n\u001b[1;37m          ^\u001b[0m\n\u001b[1;31mSyntaxError\u001b[0m\u001b[1;31m:\u001b[0m invalid syntax\n"
     ]
    }
   ],
   "source": [
    "http://localhost:8888/tree/0-source/5%20-%20Spyder"
   ]
  },
  {
   "cell_type": "markdown",
   "metadata": {},
   "source": [
    "# 4주차 과제"
   ]
  },
  {
   "cell_type": "markdown",
   "metadata": {},
   "source": [
    "## 과제 1\n",
    "pandas의 groupby, describe, concat, merge 메소드에 대해 알아보세요! #구글링 해보세요 ex) pandas groupby"
   ]
  },
  {
   "cell_type": "markdown",
   "metadata": {},
   "source": [
    "## 과제 2.\n",
    "iris 데이터를 pandas의 groupby, describe기능을 사용하여 DataFrame을 생성해오세요! #알아서"
   ]
  },
  {
   "cell_type": "code",
   "execution_count": 4,
   "metadata": {},
   "outputs": [
    {
     "data": {
      "text/html": [
       "<div>\n",
       "<style scoped>\n",
       "    .dataframe tbody tr th:only-of-type {\n",
       "        vertical-align: middle;\n",
       "    }\n",
       "\n",
       "    .dataframe tbody tr th {\n",
       "        vertical-align: top;\n",
       "    }\n",
       "\n",
       "    .dataframe thead th {\n",
       "        text-align: right;\n",
       "    }\n",
       "</style>\n",
       "<table border=\"1\" class=\"dataframe\">\n",
       "  <thead>\n",
       "    <tr style=\"text-align: right;\">\n",
       "      <th></th>\n",
       "      <th>sepal_length</th>\n",
       "      <th>sepal_width</th>\n",
       "      <th>petal_length</th>\n",
       "      <th>petal_width</th>\n",
       "      <th>species</th>\n",
       "    </tr>\n",
       "  </thead>\n",
       "  <tbody>\n",
       "    <tr>\n",
       "      <th>0</th>\n",
       "      <td>5.1</td>\n",
       "      <td>3.5</td>\n",
       "      <td>1.4</td>\n",
       "      <td>0.2</td>\n",
       "      <td>setosa</td>\n",
       "    </tr>\n",
       "    <tr>\n",
       "      <th>1</th>\n",
       "      <td>4.9</td>\n",
       "      <td>3.0</td>\n",
       "      <td>1.4</td>\n",
       "      <td>0.2</td>\n",
       "      <td>setosa</td>\n",
       "    </tr>\n",
       "    <tr>\n",
       "      <th>2</th>\n",
       "      <td>4.7</td>\n",
       "      <td>3.2</td>\n",
       "      <td>1.3</td>\n",
       "      <td>0.2</td>\n",
       "      <td>setosa</td>\n",
       "    </tr>\n",
       "    <tr>\n",
       "      <th>3</th>\n",
       "      <td>4.6</td>\n",
       "      <td>3.1</td>\n",
       "      <td>1.5</td>\n",
       "      <td>0.2</td>\n",
       "      <td>setosa</td>\n",
       "    </tr>\n",
       "    <tr>\n",
       "      <th>4</th>\n",
       "      <td>5.0</td>\n",
       "      <td>3.6</td>\n",
       "      <td>1.4</td>\n",
       "      <td>0.2</td>\n",
       "      <td>setosa</td>\n",
       "    </tr>\n",
       "  </tbody>\n",
       "</table>\n",
       "</div>"
      ],
      "text/plain": [
       "   sepal_length  sepal_width  petal_length  petal_width species\n",
       "0           5.1          3.5           1.4          0.2  setosa\n",
       "1           4.9          3.0           1.4          0.2  setosa\n",
       "2           4.7          3.2           1.3          0.2  setosa\n",
       "3           4.6          3.1           1.5          0.2  setosa\n",
       "4           5.0          3.6           1.4          0.2  setosa"
      ]
     },
     "execution_count": 4,
     "metadata": {},
     "output_type": "execute_result"
    }
   ],
   "source": [
    "import seaborn as sns\n",
    "iris = sns.load_dataset('iris') #iris데이터 불러오기\n",
    "iris.head()"
   ]
  },
  {
   "cell_type": "markdown",
   "metadata": {},
   "source": [
    "## 과제 3.\n",
    "네이버, 네이트, zum의 실시간검색어를 1등부터 10등까지 뽑아보고, concat을 통해 한 데이터 프레임으로 완성시켜보세요."
   ]
  }
 ],
 "metadata": {
  "kernelspec": {
   "display_name": "Python 3",
   "language": "python",
   "name": "python3"
  },
  "language_info": {
   "codemirror_mode": {
    "name": "ipython",
    "version": 3
   },
   "file_extension": ".py",
   "mimetype": "text/x-python",
   "name": "python",
   "nbconvert_exporter": "python",
   "pygments_lexer": "ipython3",
   "version": "3.7.1"
  }
 },
 "nbformat": 4,
 "nbformat_minor": 2
}
