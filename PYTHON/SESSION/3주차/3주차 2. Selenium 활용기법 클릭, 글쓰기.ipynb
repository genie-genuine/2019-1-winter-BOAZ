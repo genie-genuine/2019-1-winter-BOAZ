{
 "cells": [
  {
   "cell_type": "markdown",
   "metadata": {},
   "source": [
    "# Selsnium 활용기법 소개\n",
    "## Q. Selenium은 왜 사용하나요?\n",
    "## A. Selenium은 BS로 크롤링할 수 없는 것들을 크롤링 할 수 있습니다!"
   ]
  },
  {
   "cell_type": "markdown",
   "metadata": {},
   "source": [
    "# 0. 사전작업\n",
    "### driverpath에 각자 크롬드라이버 위치를 입력해주세요"
   ]
  },
  {
   "cell_type": "code",
   "execution_count": 1,
   "metadata": {},
   "outputs": [],
   "source": [
    "# 1. module importing\n",
    "from selenium import webdriver\n",
    "from bs4 import BeautifulSoup\n",
    "import pandas as pd\n",
    "import time\n",
    "\n",
    "# 2. driver경로설정 및 url주소 설정\n",
    "driverpath = 'C:/Users/hyunseok/driver/chromedriver.exe'\n",
    "dr = webdriver.Chrome(driverpath)\n",
    "url = 'https://www.koreabaseball.com/TeamRank/TeamRank.aspx' \n",
    "dr.get(url)"
   ]
  },
  {
   "cell_type": "markdown",
   "metadata": {},
   "source": [
    "# 1. 클릭\n",
    "### 우리가 할 것은 팀별순위변동 그래프를 클릭하는 것입니다."
   ]
  },
  {
   "cell_type": "markdown",
   "metadata": {},
   "source": [
    "![이미지](./6.png)"
   ]
  },
  {
   "cell_type": "markdown",
   "metadata": {},
   "source": [
    "### Ctrl + Shift + C를 누르시고 팀별 순위변동 그래프를 눌러보세요!   \n",
    "### 오른쪽 코드에 <팀별 순위변동 그래프> 태그가 회색으로 하이라이트처리됩니다!"
   ]
  },
  {
   "cell_type": "markdown",
   "metadata": {},
   "source": [
    "![이미지](./7.png)"
   ]
  },
  {
   "cell_type": "markdown",
   "metadata": {},
   "source": [
    "### 오른쪽 마우스를 누르셔서 다음과 같이 Copy Xpath를 복사해주세요!"
   ]
  },
  {
   "cell_type": "code",
   "execution_count": 8,
   "metadata": {},
   "outputs": [],
   "source": [
    "dr.find_element_by_xpath('//*[@id=\"cphContents_cphContents_cphContents_ucPager_btnNo2\"]').click()\n",
    "#정상적으로 따라오셨다면 //*[@id=\"lnb02\"] 가 클립보드에 저장되있을겁니다!"
   ]
  },
  {
   "cell_type": "markdown",
   "metadata": {},
   "source": [
    "![이미지](./8.png)"
   ]
  },
  {
   "cell_type": "markdown",
   "metadata": {},
   "source": [
    "#### 다음과 같이 주소가 https://www.koreabaseball.com/TeamRank/GraphDaily.aspx 로 바뀌셨다면 성공적입니다!"
   ]
  },
  {
   "cell_type": "markdown",
   "metadata": {},
   "source": [
    "# 2. 쓰기"
   ]
  },
  {
   "cell_type": "code",
   "execution_count": 11,
   "metadata": {},
   "outputs": [],
   "source": [
    "# 실행!\n",
    "url= 'https://www.koreabaseball.com/Player/Search.aspx'\n",
    "dr.get(url)"
   ]
  },
  {
   "cell_type": "markdown",
   "metadata": {},
   "source": [
    "![이미지](./9.png)"
   ]
  },
  {
   "cell_type": "markdown",
   "metadata": {},
   "source": [
    " ### 선수명을 작성해보겠습니다! 위와 같은 빈창의 xpath를 복사해보세요\n"
   ]
  },
  {
   "cell_type": "code",
   "execution_count": 15,
   "metadata": {},
   "outputs": [],
   "source": [
    "#다음과 같은 형식으로 작성해보세요\n",
    "dr.find_element_by_xpath(\"Xpath를 입력하세요\").send_keys('원하는 선수를 입력하세요!')"
   ]
  },
  {
   "cell_type": "code",
   "execution_count": 20,
   "metadata": {},
   "outputs": [],
   "source": [
    "#예시\n",
    "dr.find_element_by_xpath(\"\"\"//*[@id=\"cphContents_cphContents_cphContents_txtSearchPlayerName\"]\"\"\").send_keys('김현수')"
   ]
  },
  {
   "cell_type": "markdown",
   "metadata": {},
   "source": [
    "#### 위와 같은경우 Xpath안에 \" \"(쌍따옴표)가 사용되었습니다!.\n",
    "#### 따라서 ' '(따옴표)로 str처리를 하시거나, \"\"\" \"\"\"(쌍따옴표 X3)로 str처리를 하셔야 합니다!"
   ]
  },
  {
   "cell_type": "code",
   "execution_count": 17,
   "metadata": {},
   "outputs": [],
   "source": [
    "#잘못 입력했다면, 공백으로 수정할 수 있습니다!\n",
    "dr.find_element_by_xpath('''//*[@id=\"cphContents_cphContents_cphContents_txtSearchPlayerName\"]''').clear()"
   ]
  },
  {
   "cell_type": "markdown",
   "metadata": {},
   "source": [
    "# 3. 클릭과 쓰기를 같이 사용"
   ]
  },
  {
   "cell_type": "markdown",
   "metadata": {},
   "source": [
    "![이미지](./10.png)"
   ]
  },
  {
   "cell_type": "markdown",
   "metadata": {},
   "source": [
    "### Q. LG팀을 누르고싶어요 어떻게 할까요?\n",
    "### 1. 팀선택의 Xpath를 확인해보세요!!"
   ]
  },
  {
   "cell_type": "markdown",
   "metadata": {},
   "source": [
    "![이미지](./11.png)"
   ]
  },
  {
   "cell_type": "markdown",
   "metadata": {},
   "source": [
    "### 다음과 같이 구조를 이해하고, LG의 XPath를 복사하세요!"
   ]
  },
  {
   "cell_type": "markdown",
   "metadata": {},
   "source": [
    "![이미지](./12.png)"
   ]
  },
  {
   "cell_type": "markdown",
   "metadata": {},
   "source": [
    "### 클릭 메소드를 활용한다면? 팀선택이 LG로 바뀔 것 입니다."
   ]
  },
  {
   "cell_type": "code",
   "execution_count": 22,
   "metadata": {},
   "outputs": [],
   "source": [
    "dr.find_element_by_xpath('//*[@id=\"cphContents_cphContents_cphContents_ddlTeam\"]/option[7]').click()"
   ]
  },
  {
   "cell_type": "markdown",
   "metadata": {},
   "source": [
    "### 포지션 선택도 한번 바꿔보시고,  검색의 XPath도 따와서 검색까지 해보세요!"
   ]
  },
  {
   "cell_type": "code",
   "execution_count": 23,
   "metadata": {},
   "outputs": [],
   "source": []
  },
  {
   "cell_type": "markdown",
   "metadata": {},
   "source": [
    "# 미니과제"
   ]
  },
  {
   "cell_type": "markdown",
   "metadata": {},
   "source": [
    "## 보아즈모바일카페 -> 카페 글쓰기 -> 시각화 Session의  과제 게시판에 글 작성\n",
    "## 글 제목 : X조 미니팀플 성공!\n",
    "## 글 내용 : 미니팀플 전체코드"
   ]
  },
  {
   "cell_type": "markdown",
   "metadata": {},
   "source": [
    "### ※ 유의사항 : 로그인은 보안상의 이유와 자동로그인방지(CAPTCHA)의 이유로 자동이 힘듭니다.  로그인은 수동으로 해주세요!"
   ]
  },
  {
   "cell_type": "code",
   "execution_count": null,
   "metadata": {},
   "outputs": [],
   "source": [
    "#2. 보아즈 카페페이지로 이동(코딩으로 넘어가세요!)\n",
    "dr.get('https://m.cafe.naver.com/boazbigdata')"
   ]
  },
  {
   "cell_type": "code",
   "execution_count": null,
   "metadata": {},
   "outputs": [],
   "source": [
    "#3. 카페 글쓰기 클릭(코딩으로 넘어가세요!)"
   ]
  },
  {
   "cell_type": "code",
   "execution_count": null,
   "metadata": {},
   "outputs": [],
   "source": [
    "#4. 게시판 선택(시각화 Session의 과제 게시판)(코딩으로 넘어가세요!)"
   ]
  },
  {
   "cell_type": "code",
   "execution_count": null,
   "metadata": {},
   "outputs": [],
   "source": [
    "#5. 제목 작성(X조 미니팀플 성공!)(코딩으로 넘어가세요!)"
   ]
  },
  {
   "cell_type": "code",
   "execution_count": null,
   "metadata": {},
   "outputs": [],
   "source": [
    "#내용작성을 위한 트릭(코딩으로 넘어가세요!)\n",
    "dr.switch_to_frame(dr.find_element_by_id(\"frame\"))#이 코드의 설명 : https://hyesun03.github.io/2016/11/05/seleniumIframe/"
   ]
  },
  {
   "cell_type": "code",
   "execution_count": null,
   "metadata": {},
   "outputs": [],
   "source": [
    "#6. 내용 작성(미니팀플 전체코드)(코딩으로 넘어가세요!)"
   ]
  },
  {
   "cell_type": "code",
   "execution_count": null,
   "metadata": {},
   "outputs": [],
   "source": [
    "#내용작성을 위한 트릭(코딩으로 넘어가세요!)\n",
    "dr.switch_to.default_content() #이 코드의 설명 : https://hyesun03.github.io/2016/11/05/seleniumIframe/"
   ]
  },
  {
   "cell_type": "code",
   "execution_count": null,
   "metadata": {},
   "outputs": [],
   "source": [
    "#7. 확인버튼 클릭(코딩으로 넘어가세요!)"
   ]
  },
  {
   "cell_type": "markdown",
   "metadata": {},
   "source": [
    "# 과제 : Pandas 공부해오기 (다음주부터는 정말로 사용할거예요!)\n",
    "# 2주차 문제1 못푸신 분들은 다시 한번 풀어보세요!"
   ]
  }
 ],
 "metadata": {
  "kernelspec": {
   "display_name": "Python 3",
   "language": "python",
   "name": "python3"
  },
  "language_info": {
   "codemirror_mode": {
    "name": "ipython",
    "version": 3
   },
   "file_extension": ".py",
   "mimetype": "text/x-python",
   "name": "python",
   "nbconvert_exporter": "python",
   "pygments_lexer": "ipython3",
   "version": "3.7.1"
  }
 },
 "nbformat": 4,
 "nbformat_minor": 2
}
