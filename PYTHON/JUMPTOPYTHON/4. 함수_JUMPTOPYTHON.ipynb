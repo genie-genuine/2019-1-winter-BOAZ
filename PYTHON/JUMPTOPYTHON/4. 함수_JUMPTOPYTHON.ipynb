{
 "cells": [
  {
   "cell_type": "code",
   "execution_count": null,
   "metadata": {},
   "outputs": [],
   "source": []
  },
  {
   "cell_type": "code",
   "execution_count": null,
   "metadata": {},
   "outputs": [],
   "source": [
    "# 함수를 한줄로 간결하게 만들 때\n",
    "lambda 매개변수1, 매개변수2, .."
   ]
  },
  {
   "cell_type": "code",
   "execution_count": 32,
   "metadata": {},
   "outputs": [
    {
     "name": "stdout",
     "output_type": "stream",
     "text": [
      "7\n"
     ]
    }
   ],
   "source": [
    "add = lambda a, b: a+b\n",
    "c = add(3,4)\n",
    "print(c)"
   ]
  },
  {
   "cell_type": "code",
   "execution_count": 33,
   "metadata": {},
   "outputs": [
    {
     "name": "stdout",
     "output_type": "stream",
     "text": [
      "7\n"
     ]
    }
   ],
   "source": [
    "# lambda 대신 def 사용시\n",
    "def add(a,b):\n",
    "    return a+b\n",
    "c = add(3,4)\n",
    "print(c)"
   ]
  },
  {
   "cell_type": "code",
   "execution_count": 2,
   "metadata": {},
   "outputs": [
    {
     "name": "stdout",
     "output_type": "stream",
     "text": [
      "x의 값을 입력하시오2\n",
      "210\n"
     ]
    }
   ],
   "source": [
    "# input, print 함수\n",
    "x=input('x의 값을 입력하시오')\n",
    "# print(x+10) 에러 발생 input함수의 결과는 str이기 때문에 합을 구하려면 int로 바꿔주기\n",
    "print(x+'10')    # x의 값과 10을 나란히 출력"
   ]
  },
  {
   "cell_type": "code",
   "execution_count": null,
   "metadata": {},
   "outputs": [],
   "source": [
    "# 반지름을 입력받아 원을 그리고 원의 둘레와 넓이를 계산하라\n",
    "# 반지름 입력\n",
    "# 원 그리기\n",
    "# 원 둘레 계산\n",
    "# 원 넓이 계산\n",
    "\n",
    "# 이렇게 나눠서 함수 호출하고 전체 문제 해결"
   ]
  },
  {
   "cell_type": "code",
   "execution_count": null,
   "metadata": {},
   "outputs": [],
   "source": []
  },
  {
   "cell_type": "code",
   "execution_count": null,
   "metadata": {},
   "outputs": [],
   "source": [
    "# 파이썬 함수의 구조\n",
    "# 함수 선언 예약어 def, 들여쓰기 4칸\n",
    "# def 함수명(입력 인수):\n",
    "#     수행할 문장1\n",
    "#     수행할 문장2\n",
    "      ...."
   ]
  },
  {
   "cell_type": "code",
   "execution_count": null,
   "metadata": {},
   "outputs": [],
   "source": [
    "# 일반적인 함수\n",
    "def sum(a,b):    #  함수명은 sum, 입력인수로 2개의 인자를 받으며\n",
    "    return a+b   # 결과값은 2개의 입력값을 더한 값이다\n",
    "# return 함수의 결과값 돌려주는 명령어 \n",
    "# 결과값을 받을 변수 = 함수명(입력인수1,입력인수2...)"
   ]
  },
  {
   "cell_type": "code",
   "execution_count": 3,
   "metadata": {},
   "outputs": [
    {
     "name": "stdout",
     "output_type": "stream",
     "text": [
      "7\n"
     ]
    }
   ],
   "source": [
    "def sum(a,b):\n",
    "    return a+b\n",
    "c=sum(3,4)\n",
    "print(c)"
   ]
  },
  {
   "cell_type": "code",
   "execution_count": 4,
   "metadata": {},
   "outputs": [
    {
     "name": "stdout",
     "output_type": "stream",
     "text": [
      "Hi\n"
     ]
    }
   ],
   "source": [
    "# 입력값이 없는 함수\n",
    "# 결과값을 받을 변수 = 함수명()\n",
    "def say():\n",
    "    return 'Hi'\n",
    "a=say()\n",
    "print(a)"
   ]
  },
  {
   "cell_type": "code",
   "execution_count": 6,
   "metadata": {},
   "outputs": [
    {
     "name": "stdout",
     "output_type": "stream",
     "text": [
      "3, 4의 합은 7입니다.\n"
     ]
    }
   ],
   "source": [
    "# 결과값이 없는 함수\n",
    "# 함수명(입력인수1, 입력인수2,...)\n",
    "def sum(a,b):\n",
    "    print('%d, %d의 합은 %d입니다.' %(a,b,a+b))\n",
    "sum(3,4)"
   ]
  },
  {
   "cell_type": "code",
   "execution_count": 7,
   "metadata": {},
   "outputs": [
    {
     "name": "stdout",
     "output_type": "stream",
     "text": [
      "3, 4의 합은 7입니다.\n",
      "None\n"
     ]
    }
   ],
   "source": [
    "# 위의 함수가 결과값이 있는지 없는지 확인해보기\n",
    "a=sum(3,4)\n",
    "print(a)    # None 거짓을 나타내는 자료형"
   ]
  },
  {
   "cell_type": "code",
   "execution_count": 9,
   "metadata": {},
   "outputs": [
    {
     "name": "stdout",
     "output_type": "stream",
     "text": [
      "Hi\n"
     ]
    }
   ],
   "source": [
    "# 입력값도 결과값도 없는 함수\n",
    "# 함수명()\n",
    "def say():\n",
    "    print('Hi')\n",
    "say()"
   ]
  },
  {
   "cell_type": "code",
   "execution_count": null,
   "metadata": {},
   "outputs": [],
   "source": [
    "# 입력값이 몇 개가 될지 모를 떄?\n",
    "def 함수명(*입력인수):\n",
    "    수행할 문장\n",
    "    ...."
   ]
  },
  {
   "cell_type": "code",
   "execution_count": null,
   "metadata": {},
   "outputs": [],
   "source": [
    "# 여러 개의 입력값을 받는 함수 만들기\n",
    "def add_many(*args):\n",
    "    result = 0\n",
    "    for i in args:\n",
    "        result"
   ]
  },
  {
   "cell_type": "code",
   "execution_count": null,
   "metadata": {},
   "outputs": [],
   "source": []
  },
  {
   "cell_type": "code",
   "execution_count": null,
   "metadata": {},
   "outputs": [],
   "source": []
  },
  {
   "cell_type": "code",
   "execution_count": null,
   "metadata": {},
   "outputs": [],
   "source": []
  },
  {
   "cell_type": "code",
   "execution_count": null,
   "metadata": {},
   "outputs": [],
   "source": []
  },
  {
   "cell_type": "code",
   "execution_count": null,
   "metadata": {},
   "outputs": [],
   "source": []
  },
  {
   "cell_type": "code",
   "execution_count": 10,
   "metadata": {},
   "outputs": [
    {
     "name": "stdout",
     "output_type": "stream",
     "text": [
      "파이썬 좋아\n"
     ]
    }
   ],
   "source": [
    "# 사용자 입력과 출력\n",
    "# input함수\n",
    "a = input()"
   ]
  },
  {
   "cell_type": "code",
   "execution_count": 11,
   "metadata": {},
   "outputs": [
    {
     "data": {
      "text/plain": [
       "'파이썬 좋아'"
      ]
     },
     "execution_count": 11,
     "metadata": {},
     "output_type": "execute_result"
    }
   ],
   "source": [
    "a"
   ]
  },
  {
   "cell_type": "code",
   "execution_count": null,
   "metadata": {},
   "outputs": [],
   "source": [
    "# 프롬프트 띄워서 사용자 입력받기 \n",
    "# input 괄호 안 질문 입력\n",
    "input('질문 내용')"
   ]
  },
  {
   "cell_type": "code",
   "execution_count": 16,
   "metadata": {},
   "outputs": [
    {
     "name": "stdout",
     "output_type": "stream",
     "text": [
      "파이썬 좋아?파이썬 완전 좋아\n"
     ]
    }
   ],
   "source": [
    "a=input('파이썬 좋아?')"
   ]
  },
  {
   "cell_type": "code",
   "execution_count": 17,
   "metadata": {},
   "outputs": [
    {
     "name": "stdout",
     "output_type": "stream",
     "text": [
      "파이썬 완전 좋아\n"
     ]
    }
   ],
   "source": [
    "print(a)"
   ]
  },
  {
   "cell_type": "code",
   "execution_count": 19,
   "metadata": {},
   "outputs": [
    {
     "name": "stdout",
     "output_type": "stream",
     "text": [
      "HelloPython\n",
      "Hello Python\n"
     ]
    }
   ],
   "source": [
    "# print 문 입력한 자료형을 출력\n",
    "\n",
    "# 큰 따옴표 \"\"로 둘러싸인 문자열은 + 연산과 동일하다\n",
    "print(\"Hello\" \"Python\")    # 띄어쓰기 안됨\n",
    "print(\"Hello\" \" Python\")"
   ]
  },
  {
   "cell_type": "code",
   "execution_count": 20,
   "metadata": {},
   "outputs": [
    {
     "name": "stdout",
     "output_type": "stream",
     "text": [
      "Hello Python\n"
     ]
    }
   ],
   "source": [
    "# 문자열 띄어쓰기는 콤마로 한다\n",
    "print(\"Hello\",\"Python\")"
   ]
  },
  {
   "cell_type": "code",
   "execution_count": 26,
   "metadata": {},
   "outputs": [
    {
     "name": "stdout",
     "output_type": "stream",
     "text": [
      "01234567890 1 2 3 4 5 6 7 8 9 0-1-2-3-4-5-6-7-8-9-"
     ]
    }
   ],
   "source": [
    "# 한줄에 결과값 이어서 출력하기\n",
    "# print(..., end='') end 옵션 지정\n",
    "for i in range(10):\n",
    "    print(i, end='')\n",
    "for i in range(10):\n",
    "    print(i, end=' ') # 공백 입력\n",
    "for i in range(10):\n",
    "    print(i, end='-') # 문자열 입력    "
   ]
  },
  {
   "cell_type": "code",
   "execution_count": null,
   "metadata": {},
   "outputs": [],
   "source": [
    "# 파일 읽고 쓰기\n",
    "파일 객체 = open(파일이름, 파일열기모드)\n",
    "# 파일 열기 모드\n",
    "r 읽기모드 파일을 읽기만 할 때\n",
    "w 쓰기모드 파일에 내용을 쓸 때\n",
    "a 추가모드 파일의 마지막에 새로운 내용을 추가할 때"
   ]
  },
  {
   "cell_type": "code",
   "execution_count": 31,
   "metadata": {},
   "outputs": [],
   "source": [
    "# 파일 생성하기\n",
    "# 파일 저장하고 싶은 디렉터리도 같이 입력\n",
    "f=open('C:/Users/USER/Documents/Github/new.txt', 'w')\n",
    "f.close()"
   ]
  },
  {
   "cell_type": "code",
   "execution_count": null,
   "metadata": {},
   "outputs": [],
   "source": [
    "# 파일을 쓰기 모드로 열어 출력값 적기\n",
    "f=open()"
   ]
  }
 ],
 "metadata": {
  "kernelspec": {
   "display_name": "Python 3",
   "language": "python",
   "name": "python3"
  },
  "language_info": {
   "codemirror_mode": {
    "name": "ipython",
    "version": 3
   },
   "file_extension": ".py",
   "mimetype": "text/x-python",
   "name": "python",
   "nbconvert_exporter": "python",
   "pygments_lexer": "ipython3",
   "version": "3.7.1"
  }
 },
 "nbformat": 4,
 "nbformat_minor": 2
}
