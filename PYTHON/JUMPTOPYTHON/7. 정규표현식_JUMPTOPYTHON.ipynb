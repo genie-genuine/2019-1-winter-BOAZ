{
 "cells": [
  {
   "cell_type": "code",
   "execution_count": null,
   "metadata": {},
   "outputs": [],
   "source": [
    "# 7 정규표현식"
   ]
  },
  {
   "cell_type": "code",
   "execution_count": 2,
   "metadata": {},
   "outputs": [],
   "source": [
    "# 정규표현식 이용하지 않는 경우\n",
    "data = '''\n",
    "park 900905-1049118\n",
    "kim 700905-1059119'''"
   ]
  },
  {
   "cell_type": "code",
   "execution_count": 3,
   "metadata": {
    "scrolled": true
   },
   "outputs": [
    {
     "name": "stdout",
     "output_type": "stream",
     "text": [
      "\n",
      "park 900905-*******\n",
      "kim 700905-*******\n"
     ]
    }
   ],
   "source": [
    "result=[]\n",
    "for line in data.split('\\n'):\n",
    "    word_result = []\n",
    "    for word in line.split():    # 공백마다 문자 나누기\n",
    "        if len(word) == 14 and word[:6].isdigit() and word[7:].isdigit():\n",
    "            word = word[:6] + '-' + '*******'\n",
    "        word_result.append(word)\n",
    "    result.append(' '.join(word_result))    # 나눈 단어 조립하기\n",
    "print('\\n'.join(result))\n",
    "        "
   ]
  },
  {
   "cell_type": "code",
   "execution_count": 4,
   "metadata": {},
   "outputs": [
    {
     "name": "stdout",
     "output_type": "stream",
     "text": [
      "\n",
      "park 900905-*******\n",
      "kim 700905-*******\n"
     ]
    }
   ],
   "source": [
    "# 정규표현식 사용한 경우\n",
    "import re    # 정규 표현식 사용하기 위한 re 모듈\n",
    "\n",
    "pat = re.compile('(\\d{6})[-]\\d{7}')\n",
    "print(pat.sub('\\g<1>-*******', data))"
   ]
  },
  {
   "cell_type": "code",
   "execution_count": null,
   "metadata": {},
   "outputs": [],
   "source": [
    "# 7-2 정규표현식 regular expression 시작하기\n",
    "# 정규표현식의 기초, 메타 문자\n",
    "# meta characters 메타 문자 - 원래 그 문자가 가진 뜻이 아닌 특별한 용도로 사용되는 문자\n",
    "# . ^ $ * + ? {} [] \\ | ()\n",
    "\n",
    "# character class 문자 클래스 []\n",
    "# '[와 ]' 사이의 문자들과 매치\n",
    "# [와 ] 사이에는 어떤 문자도 들어갈 수 있다.\n",
    "# EX. [abc] 의 의미: 'a,b,c중 한 개의 문자와 매치'\n",
    "\n",
    "# [] 안의 두 문자 사이에 하이픈(-)을 사용하게 되면 두 문자 사이의 범위를 나타냄\n",
    "# [a-c] = [abc] , [0-5] = [012345]\n",
    "# [a-zA-Z] : 알파벳 모두, [0-9]: 숫자\n",
    "# [\\d] 숫자 = [0-9], [\\D] 숫자가 아닌 것 [^0-9]\n",
    "# \n",
    "\n",
    "# 문자 클래스 [] 내에 ^ 메타문자 사용될 경우: 반대(not) 의미\n",
    "# [^0-9] : 숫자가 아닌 문자만 매치"
   ]
  },
  {
   "cell_type": "code",
   "execution_count": null,
   "metadata": {},
   "outputs": [],
   "source": [
    "# Dot(.)\n",
    "# Dot(.) 메타 문자는 줄바꿈 문자인 \\n 를 제외한 모든 문자와 매치됨\n",
    "# re.DOTALL 옵션으로 \\n 문자와도 매치 가능\n",
    "\n",
    "a.b    \n",
    "# a와 b사이에 줄바꿈 문자를 제외한 어떤 문자가 들어가도 모두 매치\n",
    "# 위 정규식의 의미 : \"a+모든문자+b\" - a와 b 사이에 어떤 문자가 들어가도 모두 매치된다.\n",
    "# aab, a0b와 매치되지만 abc와는 매치되지 않음 : ab사이 어떤 문자라도 하나는 있어야 한다\n",
    "\n",
    "a[.]b \n",
    "# a와 b 사이에 Dot(.) 문자가 있으면 매치\n",
    "# 위 정규식의 의미 : \"a+Dot(.)문자+b\"\n",
    "# 문자 클래스 내에 Dot(.) 메타 문자 사용 시 모든 문자라는 의미가 아닌 문자 . 그대로 의미"
   ]
  },
  {
   "cell_type": "code",
   "execution_count": null,
   "metadata": {},
   "outputs": [],
   "source": [
    "# 반복(*)\n",
    "ca*t\n",
    "# 문자 바로 앞에 있는 a가 0번 이상 반복되면 매치\n",
    "# * 0번부터 무한대로 반복될 수 있음을 의미\n",
    "# ct(0번 반복), cat, caaat 모두 매치"
   ]
  },
  {
   "cell_type": "code",
   "execution_count": null,
   "metadata": {},
   "outputs": [],
   "source": [
    "# 반복(+)\n",
    "ca+t\n",
    "# 최소 1번 이상 반복될 때 <-> *\n",
    "# 'c+a(1번이상반복)+t'\n",
    "# ct와 매치 안됨"
   ]
  },
  {
   "cell_type": "code",
   "execution_count": null,
   "metadata": {},
   "outputs": [],
   "source": [
    "# 반복({m,n},?)\n",
    "# 반복횟수를 3회만 혹은 1회에서 3회까지로 제한하고 싶을 때\n",
    "# {} 이용해 반복 횟수 고정\n",
    "# {3,} 3이상, {,3} 3이하\n",
    "# {1,} = + , {0,} = *\n",
    "\n",
    "ca{2}t \n",
    "# a가 2번 반복되면 매치 - cat은 매치 안됨\n",
    "\n",
    "ca{2,5}t\n",
    "# a가 2번에서 5번까지 반복되면 매치 \n",
    "# cat (x), caat caaaat\n",
    "\n",
    "ab?c\n",
    "# ? = {0,1} 한 번 있어도 되고 없어도 된다.\n",
    "# b가 0~1번 사용되면 매치\n",
    "# ac, abc 매치"
   ]
  },
  {
   "cell_type": "code",
   "execution_count": null,
   "metadata": {},
   "outputs": [],
   "source": [
    "# 파이썬에서 정규 표현식을 지원하는 re 모듈\n",
    "# regular expression 기본 라이브러리\n",
    "import re\n",
    "\n",
    "p = re.compile('ab*')    # 패턴이라는 정규식 컴파일한 것\n",
    "# re.compile 이용해 정규 표현식을 컴파일한다. "
   ]
  },
  {
   "cell_type": "code",
   "execution_count": null,
   "metadata": {},
   "outputs": [],
   "source": [
    "# 정규식을 이용한 문자열 검색\n",
    "# 컴파일된 패턴 객체는 4가지 메서드 제공\n",
    "# match() 문자열 처음부터 \n",
    "# search() 문자열 전체\n",
    "# findall() 매치되는 문자열의 단어들을 리스트로\n",
    "# finditer()\n",
    "\n",
    "# match와 search는 정규식과 매치될 때 match 객체 리턴 - 정규식의 검색 결과로 리턴되는 객체\n",
    "# 매치되지 않으면 None 리턴"
   ]
  },
  {
   "cell_type": "code",
   "execution_count": 12,
   "metadata": {},
   "outputs": [],
   "source": [
    "import re\n",
    "p = re.compile('[a-z]+')    # 알파벳 한번이상 반복, 문자열 기호 ''로 묶어준다"
   ]
  },
  {
   "cell_type": "code",
   "execution_count": 8,
   "metadata": {},
   "outputs": [
    {
     "name": "stdout",
     "output_type": "stream",
     "text": [
      "<re.Match object; span=(0, 6), match='python'>\n"
     ]
    }
   ],
   "source": [
    "# match\n",
    "m = p.match(\"python\")\n",
    "print(m)    # match 객체가 리턴됨"
   ]
  },
  {
   "cell_type": "code",
   "execution_count": 10,
   "metadata": {},
   "outputs": [
    {
     "name": "stdout",
     "output_type": "stream",
     "text": [
      "None\n"
     ]
    }
   ],
   "source": [
    "m = p.match('3 python')\n",
    "print(m)    # 정규식 [a-z]+ 에 부합되지 않음"
   ]
  },
  {
   "cell_type": "code",
   "execution_count": null,
   "metadata": {},
   "outputs": [],
   "source": [
    "# match객체 혹은 None으로 리턴값을 받기 때문에\n",
    "p=re.compile('정규표현식')\n",
    "m=p.match('조사할 문자열')\n",
    "if m:\n",
    "    print('Match found:', m.group())    # 지정 text와 함께 조사 문자열 출력됨\n",
    "else:\n",
    "    print('No match')"
   ]
  },
  {
   "cell_type": "code",
   "execution_count": 16,
   "metadata": {},
   "outputs": [
    {
     "name": "stdout",
     "output_type": "stream",
     "text": [
      "Match found: 1234\n"
     ]
    }
   ],
   "source": [
    "# 실습\n",
    "p1 = re.compile('[0-9]+')\n",
    "m1 = p1.match('1234')\n",
    "if m1:\n",
    "    print('Match found:', m1.group())\n",
    "else:\n",
    "    print('No match')"
   ]
  },
  {
   "cell_type": "code",
   "execution_count": 19,
   "metadata": {},
   "outputs": [
    {
     "name": "stdout",
     "output_type": "stream",
     "text": [
      "<re.Match object; span=(0, 6), match='python'>\n"
     ]
    }
   ],
   "source": [
    "# search\n",
    "p = re.compile('[a-z]+') \n",
    "m = p.search('python')\n",
    "print(m)"
   ]
  },
  {
   "cell_type": "code",
   "execution_count": 20,
   "metadata": {},
   "outputs": [
    {
     "name": "stdout",
     "output_type": "stream",
     "text": [
      "<re.Match object; span=(2, 8), match='python'>\n"
     ]
    }
   ],
   "source": [
    "m = p.search('3 python')\n",
    "print(m)    # match 메서드와 다르게 매치객체 리턴된다\n",
    "# match와 search의 차이는 문자열 처음부터 검색할지의 여부\n",
    "# match는 처음부터\n",
    "# search는 문자열 전체"
   ]
  },
  {
   "cell_type": "code",
   "execution_count": 21,
   "metadata": {},
   "outputs": [
    {
     "name": "stdout",
     "output_type": "stream",
     "text": [
      "['life', 'is', 'too', 'short']\n"
     ]
    }
   ],
   "source": [
    "# findall\n",
    "p = re.compile('[a-z]+') \n",
    "result = p.findall('life is too short')\n",
    "print(result)    # 정규식과 매치되는 문자열의 단어들이 리스트로 리턴됨"
   ]
  },
  {
   "cell_type": "code",
   "execution_count": 22,
   "metadata": {},
   "outputs": [
    {
     "name": "stdout",
     "output_type": "stream",
     "text": [
      "<callable_iterator object at 0x000000CD5D476240>\n"
     ]
    }
   ],
   "source": [
    "# finditer\n",
    "p = re.compile('[a-z]+') \n",
    "result = p.finditer('life is too short')\n",
    "print(result)\n",
    "# findall과 동일하지만 그 결과로 반복 가능한 객체 iterator object를 리턴 "
   ]
  },
  {
   "cell_type": "code",
   "execution_count": 23,
   "metadata": {},
   "outputs": [
    {
     "name": "stdout",
     "output_type": "stream",
     "text": [
      "<re.Match object; span=(0, 4), match='life'>\n",
      "<re.Match object; span=(5, 7), match='is'>\n",
      "<re.Match object; span=(8, 11), match='too'>\n",
      "<re.Match object; span=(12, 17), match='short'>\n"
     ]
    }
   ],
   "source": [
    "# 반복가능한 객체가 포함하는 각각의 요소는 match 객체이다\n",
    "for r in result: \n",
    "    print(r)    # match object 출력"
   ]
  },
  {
   "cell_type": "code",
   "execution_count": null,
   "metadata": {},
   "outputs": [],
   "source": [
    "# match객체의 메서드\n",
    "# match 메서드와 search 메서드의 수행 결과로 리턴된 match object\n",
    "\n",
    "# 주요한 관심사\n",
    "# 어떤 문자열이 매치되었나\n",
    "# 매치된 문자열의 인덱스는 어디부터 어디까지인가?"
   ]
  },
  {
   "cell_type": "code",
   "execution_count": null,
   "metadata": {},
   "outputs": [],
   "source": [
    "# match 객체의 메서드 네가지\n",
    "# group()\n",
    "# start()\n",
    "# end()\n",
    "# span()"
   ]
  },
  {
   "cell_type": "code",
   "execution_count": 24,
   "metadata": {},
   "outputs": [],
   "source": [
    "import re\n",
    "p = re.compile('[a-z]+')\n",
    "m = p.match('python')"
   ]
  },
  {
   "cell_type": "code",
   "execution_count": 25,
   "metadata": {},
   "outputs": [
    {
     "data": {
      "text/plain": [
       "'python'"
      ]
     },
     "execution_count": 25,
     "metadata": {},
     "output_type": "execute_result"
    }
   ],
   "source": [
    "m.group()    # 매치된 문자열 리턴하기"
   ]
  },
  {
   "cell_type": "code",
   "execution_count": 26,
   "metadata": {},
   "outputs": [
    {
     "data": {
      "text/plain": [
       "0"
      ]
     },
     "execution_count": 26,
     "metadata": {},
     "output_type": "execute_result"
    }
   ],
   "source": [
    "m.start()    # 매치된 문자열의 시작 위치는 항상 0\n",
    "# match 메서드는 항상 문자열의 시작부터 조사하기 때문"
   ]
  },
  {
   "cell_type": "code",
   "execution_count": 27,
   "metadata": {},
   "outputs": [
    {
     "data": {
      "text/plain": [
       "6"
      ]
     },
     "execution_count": 27,
     "metadata": {},
     "output_type": "execute_result"
    }
   ],
   "source": [
    "m.end()      # 매치된 문자열의 끝 위치"
   ]
  },
  {
   "cell_type": "code",
   "execution_count": 28,
   "metadata": {},
   "outputs": [
    {
     "data": {
      "text/plain": [
       "(0, 6)"
      ]
     },
     "execution_count": 28,
     "metadata": {},
     "output_type": "execute_result"
    }
   ],
   "source": [
    "m.span()     # 매치된 문자열의 (시작, 끝) 튜플로 리턴"
   ]
  },
  {
   "cell_type": "code",
   "execution_count": 31,
   "metadata": {},
   "outputs": [
    {
     "data": {
      "text/plain": [
       "'python'"
      ]
     },
     "execution_count": 31,
     "metadata": {},
     "output_type": "execute_result"
    }
   ],
   "source": [
    "# search 매서드를 사용했다면?\n",
    "m1 = p.search('3 python')\n",
    "m1.start()     # match 메서드와의 차이 "
   ]
  },
  {
   "cell_type": "code",
   "execution_count": 33,
   "metadata": {},
   "outputs": [
    {
     "data": {
      "text/plain": [
       "'python'"
      ]
     },
     "execution_count": 33,
     "metadata": {},
     "output_type": "execute_result"
    }
   ],
   "source": [
    "m1.group()"
   ]
  },
  {
   "cell_type": "code",
   "execution_count": 32,
   "metadata": {},
   "outputs": [
    {
     "data": {
      "text/plain": [
       "(2, 8)"
      ]
     },
     "execution_count": 32,
     "metadata": {},
     "output_type": "execute_result"
    }
   ],
   "source": [
    "m1.span()"
   ]
  },
  {
   "cell_type": "code",
   "execution_count": 34,
   "metadata": {},
   "outputs": [
    {
     "data": {
      "text/plain": [
       "8"
      ]
     },
     "execution_count": 34,
     "metadata": {},
     "output_type": "execute_result"
    }
   ],
   "source": [
    "m1.end()"
   ]
  },
  {
   "cell_type": "code",
   "execution_count": null,
   "metadata": {},
   "outputs": [],
   "source": [
    "# 한 번 만든 패턴 객체를 여러번 사용해야할 때\n",
    "p = re.compile('정규표현식')\n",
    "m = p.match('문자열')\n",
    "\n",
    "# 모듈 단위로 수행하기\n",
    "m = re.match('정규표현식', '문자열')"
   ]
  },
  {
   "cell_type": "code",
   "execution_count": null,
   "metadata": {},
   "outputs": [],
   "source": [
    "# 컴파일 옵션\n",
    "# DOTALL / S 줄바꿈문자를 포함한 모든 문자\n",
    "# IGNORECASE / I  대소문자에 관계없이\n",
    "# MULTILINE / M   여러 줄과 매치할 수 있도록\n",
    "# VERBOSE / X   verbose모드(정규식을 보기 편하게 만들 수 있고 주석을 사용할 수 있음)"
   ]
  },
  {
   "cell_type": "code",
   "execution_count": 36,
   "metadata": {},
   "outputs": [
    {
     "name": "stdout",
     "output_type": "stream",
     "text": [
      "None\n"
     ]
    }
   ],
   "source": [
    "p = re.compile('a.b')\n",
    "m = p.match('a\\nb')\n",
    "print(m)   # 문자열과 정규식이 매치되지 않는다"
   ]
  },
  {
   "cell_type": "code",
   "execution_count": null,
   "metadata": {},
   "outputs": [],
   "source": [
    "# \\n(줄바꿈문자)를 포함하여 모든 문자와 매치할 수 있도록 \n",
    "m = p.match('a\\nb', re.DOTALL)\n",
    "# 여러 줄로 이루어진 문자열에서 \\n에 상관없이 검색하고자할 때"
   ]
  },
  {
   "cell_type": "code",
   "execution_count": 39,
   "metadata": {},
   "outputs": [],
   "source": [
    "# 대소문자에 곤계 없이 매치할 수 있도록\n",
    "p = re.compile('[a-z]' , re.I)"
   ]
  },
  {
   "cell_type": "code",
   "execution_count": 40,
   "metadata": {},
   "outputs": [
    {
     "data": {
      "text/plain": [
       "<re.Match object; span=(0, 1), match='p'>"
      ]
     },
     "execution_count": 40,
     "metadata": {},
     "output_type": "execute_result"
    }
   ],
   "source": [
    "p.match('python')"
   ]
  },
  {
   "cell_type": "code",
   "execution_count": 41,
   "metadata": {},
   "outputs": [
    {
     "data": {
      "text/plain": [
       "<re.Match object; span=(0, 1), match='P'>"
      ]
     },
     "execution_count": 41,
     "metadata": {},
     "output_type": "execute_result"
    }
   ],
   "source": [
    "p.match('Python')"
   ]
  },
  {
   "cell_type": "code",
   "execution_count": null,
   "metadata": {},
   "outputs": [],
   "source": [
    "# MULTILINE, M \n",
    "# re.MULTILINE, re.M\n",
    "# ^,$ 메타 문자를 문자열의 각 라인마다 적용\n",
    "\n",
    "# ^ 문자열 처음을 의미\n",
    "# $ 문자열 마지막을 의미"
   ]
  },
  {
   "cell_type": "code",
   "execution_count": 42,
   "metadata": {},
   "outputs": [
    {
     "name": "stdout",
     "output_type": "stream",
     "text": [
      "['python one']\n"
     ]
    }
   ],
   "source": [
    "# \"python\"이라는 문자열로 시작하고 그 후에 whitespace, 그 후에 단어가 와야한다는 의미\n",
    "p = re.compile(\"^python\\s\\w+\")\n",
    "# \\s whitespace 문자와 매치\n",
    "# \\w 문자+숫자(alphanumeric)와 매치\n",
    "# \\S \\W는 위의 반대 (아닌것과 매치)\n",
    "\n",
    "data = \"\"\"python one\n",
    "life is too short\n",
    "python two\n",
    "you need python\n",
    "python three\"\"\"\n",
    "print(p.findall(data))    # findall 매치된 문자열내의 단어를 리스트 형태로 리턴"
   ]
  },
  {
   "cell_type": "code",
   "execution_count": 47,
   "metadata": {},
   "outputs": [
    {
     "name": "stdout",
     "output_type": "stream",
     "text": [
      "['python one', 'python two', 'python three']\n"
     ]
    }
   ],
   "source": [
    "# ^python\\s\\w+ 의 ^메타 문자를 문자열 전체의 처음이 아니라 각 라인의 처음으로 인식시키고 싶은 경우\n",
    "p = re.compile(\"^python\\s\\w+\", re.MULTILINE)\n",
    "print(p.findall(data))    # 검색할 문자열 data는 여러줄로 이루어져있음"
   ]
  },
  {
   "cell_type": "code",
   "execution_count": null,
   "metadata": {},
   "outputs": [],
   "source": [
    "#  이해하기 어려운 정규식을 주석 또는 라인 단위로 구분할 수 있도록\n",
    "charref = re.compile(r'&[#](0[0-7]+|[0-9]+|x[0-9a-fA-F]+);')"
   ]
  },
  {
   "cell_type": "code",
   "execution_count": null,
   "metadata": {},
   "outputs": [],
   "source": [
    "charref = re.compile(r'''\n",
    "&[#]       # start of a numeric entitiy reference\n",
    "(\n",
    "   0[0-7]+\n",
    "   |[0-9]+\n",
    "   |x[0-9a-fA-F]+\n",
    ")\n",
    ";\n",
    "''', re.VERBOSE)\n",
    "\n",
    "# re.VERBOSE 옵션을 사용하면 문자열에 사용된 whitespace는 컴파일 시 제거"
   ]
  },
  {
   "cell_type": "code",
   "execution_count": null,
   "metadata": {},
   "outputs": [],
   "source": [
    "# 백슬래시 문제"
   ]
  },
  {
   "cell_type": "code",
   "execution_count": null,
   "metadata": {},
   "outputs": [],
   "source": [
    "# "
   ]
  },
  {
   "cell_type": "code",
   "execution_count": null,
   "metadata": {},
   "outputs": [],
   "source": []
  },
  {
   "cell_type": "code",
   "execution_count": null,
   "metadata": {},
   "outputs": [],
   "source": []
  },
  {
   "cell_type": "code",
   "execution_count": null,
   "metadata": {},
   "outputs": [],
   "source": []
  },
  {
   "cell_type": "code",
   "execution_count": 18,
   "metadata": {},
   "outputs": [
    {
     "name": "stdout",
     "output_type": "stream",
     "text": [
      "None\n"
     ]
    }
   ],
   "source": [
    "# Dot(.) \n",
    "# a.b면 a+모든문자+b로 ab와 매치되지 않는다.\n",
    "# 어떤 문자라도 하나는 있어야 한다\n",
    "p = re.compile('a.b')\n",
    "m = p.match('ab')\n",
    "print(m)    # match 안됨"
   ]
  },
  {
   "cell_type": "code",
   "execution_count": null,
   "metadata": {},
   "outputs": [],
   "source": []
  }
 ],
 "metadata": {
  "kernelspec": {
   "display_name": "Python 3",
   "language": "python",
   "name": "python3"
  },
  "language_info": {
   "codemirror_mode": {
    "name": "ipython",
    "version": 3
   },
   "file_extension": ".py",
   "mimetype": "text/x-python",
   "name": "python",
   "nbconvert_exporter": "python",
   "pygments_lexer": "ipython3",
   "version": "3.7.1"
  }
 },
 "nbformat": 4,
 "nbformat_minor": 2
}
